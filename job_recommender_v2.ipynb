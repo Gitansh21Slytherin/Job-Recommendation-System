{
 "cells": [
  {
   "cell_type": "markdown",
   "metadata": {},
   "source": [
    "# Job Recommendation\n"
   ]
  },
  {
   "cell_type": "markdown",
   "metadata": {},
   "source": [
    "## TOC\n",
    "* [Import dependencies](#import)\n",
    "* [Load dataset](#dataset)\n",
    "* [EDA and Preprocessing](#EDA)\n",
    " - [split into training and testing dataset](#split)\n",
    " - [location](#location)\n",
    " - [preprocessing](#preprocessing)\n",
    "* [Building model](#model)\n",
    "* [Clean html](#html)\n",
    "* [Content based filtering](#content)\n",
    " - [job description based recommender](#jobdesc)\n",
    " - [similar user based recommender](#similarusers)\n",
    "\n"
   ]
  },
  {
   "cell_type": "markdown",
   "metadata": {},
   "source": [
    "## Import dependencies <a class=\"anchor\" id=\"import\"></a>"
   ]
  },
  {
   "cell_type": "code",
   "execution_count": 3,
   "metadata": {},
   "outputs": [],
   "source": [
    "%matplotlib inline\n",
    "import matplotlib.pyplot as plt\n",
    "import seaborn as sns\n",
    "import pandas as pd\n",
    "import numpy as np"
   ]
  },
  {
   "cell_type": "markdown",
   "metadata": {},
   "source": [
    "## Load dataset <a class=\"anchor\" id=\"dataset\"></a>"
   ]
  },
  {
   "cell_type": "markdown",
   "metadata": {},
   "source": [
    "- users\n",
    "- jobs\n",
    "- apps\n",
    "- users_history\n",
    "- test_users"
   ]
  },
  {
   "cell_type": "code",
   "execution_count": 4,
   "metadata": {
    "scrolled": true
   },
   "outputs": [
    {
     "name": "stderr",
     "output_type": "stream",
     "text": [
      "C:\\Users\\DELL\\AppData\\Local\\Temp\\ipykernel_19072\\3061816813.py:2: FutureWarning: The error_bad_lines argument has been deprecated and will be removed in a future version. Use on_bad_lines in the future.\n",
      "\n",
      "\n",
      "  jobs = pd.read_csv('G:/1College/7th Sem/E1 - Recommendation Systems/Project/job-recommender/job-recommendation/jobs.tsv', sep='\\t', encoding='utf-8', error_bad_lines=False)\n",
      "b'Skipping line 122433: expected 11 fields, saw 12\\n'\n",
      "b'Skipping line 602576: expected 11 fields, saw 12\\n'\n",
      "b'Skipping line 990950: expected 11 fields, saw 12\\n'\n",
      "C:\\Users\\DELL\\AppData\\Local\\Temp\\ipykernel_19072\\3061816813.py:2: DtypeWarning: Columns (8) have mixed types. Specify dtype option on import or set low_memory=False.\n",
      "  jobs = pd.read_csv('G:/1College/7th Sem/E1 - Recommendation Systems/Project/job-recommender/job-recommendation/jobs.tsv', sep='\\t', encoding='utf-8', error_bad_lines=False)\n"
     ]
    }
   ],
   "source": [
    "users = pd.read_csv('G:/1College/7th Sem/E1 - Recommendation Systems/Project/job-recommender/job-recommendation/users.tsv', sep='\\t', encoding='utf-8')\n",
    "jobs = pd.read_csv('G:/1College/7th Sem/E1 - Recommendation Systems/Project/job-recommender/job-recommendation/jobs.tsv', sep='\\t', encoding='utf-8', error_bad_lines=False)\n",
    "apps = pd.read_csv('G:/1College/7th Sem/E1 - Recommendation Systems/Project/job-recommender/job-recommendation/apps.tsv', sep='\\t', encoding='utf-8')\n",
    "user_history = pd.read_csv('G:/1College/7th Sem/E1 - Recommendation Systems/Project/job-recommender/job-recommendation/user_history.tsv', sep='\\t', encoding='utf-8')\n",
    "test_users = pd.read_csv('G:/1College/7th Sem/E1 - Recommendation Systems/Project/job-recommender/job-recommendation/test_users.tsv', sep='\\t', encoding='utf-8')\n"
   ]
  },
  {
   "cell_type": "code",
   "execution_count": 5,
   "metadata": {},
   "outputs": [
    {
     "data": {
      "text/html": [
       "<div>\n",
       "<style scoped>\n",
       "    .dataframe tbody tr th:only-of-type {\n",
       "        vertical-align: middle;\n",
       "    }\n",
       "\n",
       "    .dataframe tbody tr th {\n",
       "        vertical-align: top;\n",
       "    }\n",
       "\n",
       "    .dataframe thead th {\n",
       "        text-align: right;\n",
       "    }\n",
       "</style>\n",
       "<table border=\"1\" class=\"dataframe\">\n",
       "  <thead>\n",
       "    <tr style=\"text-align: right;\">\n",
       "      <th></th>\n",
       "      <th>UserID</th>\n",
       "      <th>WindowID</th>\n",
       "      <th>Split</th>\n",
       "      <th>City</th>\n",
       "      <th>State</th>\n",
       "      <th>Country</th>\n",
       "      <th>ZipCode</th>\n",
       "      <th>DegreeType</th>\n",
       "      <th>Major</th>\n",
       "      <th>GraduationDate</th>\n",
       "      <th>WorkHistoryCount</th>\n",
       "      <th>TotalYearsExperience</th>\n",
       "      <th>CurrentlyEmployed</th>\n",
       "      <th>ManagedOthers</th>\n",
       "      <th>ManagedHowMany</th>\n",
       "    </tr>\n",
       "  </thead>\n",
       "  <tbody>\n",
       "    <tr>\n",
       "      <th>0</th>\n",
       "      <td>47</td>\n",
       "      <td>1</td>\n",
       "      <td>Train</td>\n",
       "      <td>Paramount</td>\n",
       "      <td>CA</td>\n",
       "      <td>US</td>\n",
       "      <td>90723</td>\n",
       "      <td>High School</td>\n",
       "      <td>NaN</td>\n",
       "      <td>1999-06-01 00:00:00</td>\n",
       "      <td>3</td>\n",
       "      <td>10.0</td>\n",
       "      <td>Yes</td>\n",
       "      <td>No</td>\n",
       "      <td>0</td>\n",
       "    </tr>\n",
       "    <tr>\n",
       "      <th>1</th>\n",
       "      <td>72</td>\n",
       "      <td>1</td>\n",
       "      <td>Train</td>\n",
       "      <td>La Mesa</td>\n",
       "      <td>CA</td>\n",
       "      <td>US</td>\n",
       "      <td>91941</td>\n",
       "      <td>Master's</td>\n",
       "      <td>Anthropology</td>\n",
       "      <td>2011-01-01 00:00:00</td>\n",
       "      <td>10</td>\n",
       "      <td>8.0</td>\n",
       "      <td>Yes</td>\n",
       "      <td>No</td>\n",
       "      <td>0</td>\n",
       "    </tr>\n",
       "    <tr>\n",
       "      <th>2</th>\n",
       "      <td>80</td>\n",
       "      <td>1</td>\n",
       "      <td>Train</td>\n",
       "      <td>Williamstown</td>\n",
       "      <td>NJ</td>\n",
       "      <td>US</td>\n",
       "      <td>08094</td>\n",
       "      <td>High School</td>\n",
       "      <td>Not Applicable</td>\n",
       "      <td>1985-06-01 00:00:00</td>\n",
       "      <td>5</td>\n",
       "      <td>11.0</td>\n",
       "      <td>Yes</td>\n",
       "      <td>Yes</td>\n",
       "      <td>5</td>\n",
       "    </tr>\n",
       "    <tr>\n",
       "      <th>3</th>\n",
       "      <td>98</td>\n",
       "      <td>1</td>\n",
       "      <td>Train</td>\n",
       "      <td>Astoria</td>\n",
       "      <td>NY</td>\n",
       "      <td>US</td>\n",
       "      <td>11105</td>\n",
       "      <td>Master's</td>\n",
       "      <td>Journalism</td>\n",
       "      <td>2007-05-01 00:00:00</td>\n",
       "      <td>3</td>\n",
       "      <td>3.0</td>\n",
       "      <td>Yes</td>\n",
       "      <td>No</td>\n",
       "      <td>0</td>\n",
       "    </tr>\n",
       "    <tr>\n",
       "      <th>4</th>\n",
       "      <td>123</td>\n",
       "      <td>1</td>\n",
       "      <td>Train</td>\n",
       "      <td>Baton Rouge</td>\n",
       "      <td>LA</td>\n",
       "      <td>US</td>\n",
       "      <td>70808</td>\n",
       "      <td>Bachelor's</td>\n",
       "      <td>Agricultural Business</td>\n",
       "      <td>2011-05-01 00:00:00</td>\n",
       "      <td>1</td>\n",
       "      <td>9.0</td>\n",
       "      <td>Yes</td>\n",
       "      <td>No</td>\n",
       "      <td>0</td>\n",
       "    </tr>\n",
       "  </tbody>\n",
       "</table>\n",
       "</div>"
      ],
      "text/plain": [
       "   UserID  WindowID  Split          City State Country ZipCode   DegreeType  \\\n",
       "0      47         1  Train     Paramount    CA      US   90723  High School   \n",
       "1      72         1  Train       La Mesa    CA      US   91941     Master's   \n",
       "2      80         1  Train  Williamstown    NJ      US   08094  High School   \n",
       "3      98         1  Train       Astoria    NY      US   11105     Master's   \n",
       "4     123         1  Train   Baton Rouge    LA      US   70808   Bachelor's   \n",
       "\n",
       "                   Major       GraduationDate  WorkHistoryCount  \\\n",
       "0                    NaN  1999-06-01 00:00:00                 3   \n",
       "1           Anthropology  2011-01-01 00:00:00                10   \n",
       "2         Not Applicable  1985-06-01 00:00:00                 5   \n",
       "3             Journalism  2007-05-01 00:00:00                 3   \n",
       "4  Agricultural Business  2011-05-01 00:00:00                 1   \n",
       "\n",
       "   TotalYearsExperience CurrentlyEmployed ManagedOthers  ManagedHowMany  \n",
       "0                  10.0               Yes            No               0  \n",
       "1                   8.0               Yes            No               0  \n",
       "2                  11.0               Yes           Yes               5  \n",
       "3                   3.0               Yes            No               0  \n",
       "4                   9.0               Yes            No               0  "
      ]
     },
     "execution_count": 5,
     "metadata": {},
     "output_type": "execute_result"
    }
   ],
   "source": [
    "users.head()"
   ]
  },
  {
   "cell_type": "code",
   "execution_count": 6,
   "metadata": {},
   "outputs": [
    {
     "data": {
      "text/plain": [
       "Index(['UserID', 'WindowID', 'Split', 'City', 'State', 'Country', 'ZipCode',\n",
       "       'DegreeType', 'Major', 'GraduationDate', 'WorkHistoryCount',\n",
       "       'TotalYearsExperience', 'CurrentlyEmployed', 'ManagedOthers',\n",
       "       'ManagedHowMany'],\n",
       "      dtype='object')"
      ]
     },
     "execution_count": 6,
     "metadata": {},
     "output_type": "execute_result"
    }
   ],
   "source": [
    "users.columns"
   ]
  },
  {
   "cell_type": "code",
   "execution_count": 7,
   "metadata": {
    "scrolled": true
   },
   "outputs": [
    {
     "name": "stdout",
     "output_type": "stream",
     "text": [
      "<class 'pandas.core.frame.DataFrame'>\n",
      "RangeIndex: 389708 entries, 0 to 389707\n",
      "Data columns (total 15 columns):\n",
      " #   Column                Non-Null Count   Dtype  \n",
      "---  ------                --------------   -----  \n",
      " 0   UserID                389708 non-null  int64  \n",
      " 1   WindowID              389708 non-null  int64  \n",
      " 2   Split                 389708 non-null  object \n",
      " 3   City                  389708 non-null  object \n",
      " 4   State                 389218 non-null  object \n",
      " 5   Country               389708 non-null  object \n",
      " 6   ZipCode               387974 non-null  object \n",
      " 7   DegreeType            389708 non-null  object \n",
      " 8   Major                 292468 non-null  object \n",
      " 9   GraduationDate        269477 non-null  object \n",
      " 10  WorkHistoryCount      389708 non-null  int64  \n",
      " 11  TotalYearsExperience  375528 non-null  float64\n",
      " 12  CurrentlyEmployed     347632 non-null  object \n",
      " 13  ManagedOthers         389708 non-null  object \n",
      " 14  ManagedHowMany        389708 non-null  int64  \n",
      "dtypes: float64(1), int64(4), object(10)\n",
      "memory usage: 44.6+ MB\n"
     ]
    }
   ],
   "source": [
    "users.info()"
   ]
  },
  {
   "cell_type": "code",
   "execution_count": 8,
   "metadata": {
    "scrolled": false
   },
   "outputs": [
    {
     "data": {
      "text/html": [
       "<div>\n",
       "<style scoped>\n",
       "    .dataframe tbody tr th:only-of-type {\n",
       "        vertical-align: middle;\n",
       "    }\n",
       "\n",
       "    .dataframe tbody tr th {\n",
       "        vertical-align: top;\n",
       "    }\n",
       "\n",
       "    .dataframe thead th {\n",
       "        text-align: right;\n",
       "    }\n",
       "</style>\n",
       "<table border=\"1\" class=\"dataframe\">\n",
       "  <thead>\n",
       "    <tr style=\"text-align: right;\">\n",
       "      <th></th>\n",
       "      <th>JobID</th>\n",
       "      <th>WindowID</th>\n",
       "      <th>Title</th>\n",
       "      <th>Description</th>\n",
       "      <th>Requirements</th>\n",
       "      <th>City</th>\n",
       "      <th>State</th>\n",
       "      <th>Country</th>\n",
       "      <th>Zip5</th>\n",
       "      <th>StartDate</th>\n",
       "      <th>EndDate</th>\n",
       "    </tr>\n",
       "  </thead>\n",
       "  <tbody>\n",
       "    <tr>\n",
       "      <th>0</th>\n",
       "      <td>1</td>\n",
       "      <td>1</td>\n",
       "      <td>Security Engineer/Technical Lead</td>\n",
       "      <td>&lt;p&gt;Security Clearance Required:&amp;nbsp; Top Secr...</td>\n",
       "      <td>&lt;p&gt;SKILL SET&lt;/p&gt;\\r&lt;p&gt;&amp;nbsp;&lt;/p&gt;\\r&lt;p&gt;Network Se...</td>\n",
       "      <td>Washington</td>\n",
       "      <td>DC</td>\n",
       "      <td>US</td>\n",
       "      <td>20531</td>\n",
       "      <td>2012-03-07 13:17:01.643</td>\n",
       "      <td>2012-04-06 23:59:59</td>\n",
       "    </tr>\n",
       "    <tr>\n",
       "      <th>1</th>\n",
       "      <td>4</td>\n",
       "      <td>1</td>\n",
       "      <td>SAP Business Analyst / WM</td>\n",
       "      <td>&lt;strong&gt;NO Corp. to Corp resumes&amp;nbsp;are bein...</td>\n",
       "      <td>&lt;p&gt;&lt;b&gt;WHAT YOU NEED: &lt;/b&gt;&lt;/p&gt;\\r&lt;p&gt;Four year co...</td>\n",
       "      <td>Charlotte</td>\n",
       "      <td>NC</td>\n",
       "      <td>US</td>\n",
       "      <td>28217</td>\n",
       "      <td>2012-03-21 02:03:44.137</td>\n",
       "      <td>2012-04-20 23:59:59</td>\n",
       "    </tr>\n",
       "    <tr>\n",
       "      <th>2</th>\n",
       "      <td>7</td>\n",
       "      <td>1</td>\n",
       "      <td>P/T HUMAN RESOURCES ASSISTANT</td>\n",
       "      <td>&lt;b&gt;    &lt;b&gt; P/T HUMAN RESOURCES ASSISTANT&lt;/b&gt; &lt;...</td>\n",
       "      <td>Please refer to the Job Description to view th...</td>\n",
       "      <td>Winter Park</td>\n",
       "      <td>FL</td>\n",
       "      <td>US</td>\n",
       "      <td>32792</td>\n",
       "      <td>2012-03-02 16:36:55.447</td>\n",
       "      <td>2012-04-01 23:59:59</td>\n",
       "    </tr>\n",
       "    <tr>\n",
       "      <th>3</th>\n",
       "      <td>8</td>\n",
       "      <td>1</td>\n",
       "      <td>Route Delivery Drivers</td>\n",
       "      <td>CITY BEVERAGES Come to work for the best in th...</td>\n",
       "      <td>Please refer to the Job Description to view th...</td>\n",
       "      <td>Orlando</td>\n",
       "      <td>FL</td>\n",
       "      <td>US</td>\n",
       "      <td>NaN</td>\n",
       "      <td>2012-03-03 09:01:10.077</td>\n",
       "      <td>2012-04-02 23:59:59</td>\n",
       "    </tr>\n",
       "    <tr>\n",
       "      <th>4</th>\n",
       "      <td>9</td>\n",
       "      <td>1</td>\n",
       "      <td>Housekeeping</td>\n",
       "      <td>I make  sure every part of their day is magica...</td>\n",
       "      <td>Please refer to the Job Description to view th...</td>\n",
       "      <td>Orlando</td>\n",
       "      <td>FL</td>\n",
       "      <td>US</td>\n",
       "      <td>NaN</td>\n",
       "      <td>2012-03-03 09:01:11.88</td>\n",
       "      <td>2012-04-02 23:59:59</td>\n",
       "    </tr>\n",
       "  </tbody>\n",
       "</table>\n",
       "</div>"
      ],
      "text/plain": [
       "   JobID  WindowID                             Title  \\\n",
       "0      1         1  Security Engineer/Technical Lead   \n",
       "1      4         1         SAP Business Analyst / WM   \n",
       "2      7         1     P/T HUMAN RESOURCES ASSISTANT   \n",
       "3      8         1            Route Delivery Drivers   \n",
       "4      9         1                      Housekeeping   \n",
       "\n",
       "                                         Description  \\\n",
       "0  <p>Security Clearance Required:&nbsp; Top Secr...   \n",
       "1  <strong>NO Corp. to Corp resumes&nbsp;are bein...   \n",
       "2  <b>    <b> P/T HUMAN RESOURCES ASSISTANT</b> <...   \n",
       "3  CITY BEVERAGES Come to work for the best in th...   \n",
       "4  I make  sure every part of their day is magica...   \n",
       "\n",
       "                                        Requirements         City State  \\\n",
       "0  <p>SKILL SET</p>\\r<p>&nbsp;</p>\\r<p>Network Se...   Washington    DC   \n",
       "1  <p><b>WHAT YOU NEED: </b></p>\\r<p>Four year co...    Charlotte    NC   \n",
       "2  Please refer to the Job Description to view th...  Winter Park    FL   \n",
       "3  Please refer to the Job Description to view th...      Orlando    FL   \n",
       "4  Please refer to the Job Description to view th...      Orlando    FL   \n",
       "\n",
       "  Country   Zip5                StartDate              EndDate  \n",
       "0      US  20531  2012-03-07 13:17:01.643  2012-04-06 23:59:59  \n",
       "1      US  28217  2012-03-21 02:03:44.137  2012-04-20 23:59:59  \n",
       "2      US  32792  2012-03-02 16:36:55.447  2012-04-01 23:59:59  \n",
       "3      US    NaN  2012-03-03 09:01:10.077  2012-04-02 23:59:59  \n",
       "4      US    NaN   2012-03-03 09:01:11.88  2012-04-02 23:59:59  "
      ]
     },
     "execution_count": 8,
     "metadata": {},
     "output_type": "execute_result"
    }
   ],
   "source": [
    "jobs.replace('NaN',np.NaN)\n",
    "jobs.head()"
   ]
  },
  {
   "cell_type": "code",
   "execution_count": 9,
   "metadata": {
    "scrolled": true
   },
   "outputs": [
    {
     "data": {
      "text/html": [
       "<div>\n",
       "<style scoped>\n",
       "    .dataframe tbody tr th:only-of-type {\n",
       "        vertical-align: middle;\n",
       "    }\n",
       "\n",
       "    .dataframe tbody tr th {\n",
       "        vertical-align: top;\n",
       "    }\n",
       "\n",
       "    .dataframe thead th {\n",
       "        text-align: right;\n",
       "    }\n",
       "</style>\n",
       "<table border=\"1\" class=\"dataframe\">\n",
       "  <thead>\n",
       "    <tr style=\"text-align: right;\">\n",
       "      <th></th>\n",
       "      <th>UserID</th>\n",
       "      <th>WindowID</th>\n",
       "      <th>Split</th>\n",
       "      <th>ApplicationDate</th>\n",
       "      <th>JobID</th>\n",
       "    </tr>\n",
       "  </thead>\n",
       "  <tbody>\n",
       "    <tr>\n",
       "      <th>0</th>\n",
       "      <td>47</td>\n",
       "      <td>1</td>\n",
       "      <td>Train</td>\n",
       "      <td>2012-04-04 15:56:23.537</td>\n",
       "      <td>169528</td>\n",
       "    </tr>\n",
       "    <tr>\n",
       "      <th>1</th>\n",
       "      <td>47</td>\n",
       "      <td>1</td>\n",
       "      <td>Train</td>\n",
       "      <td>2012-04-06 01:03:00.003</td>\n",
       "      <td>284009</td>\n",
       "    </tr>\n",
       "    <tr>\n",
       "      <th>2</th>\n",
       "      <td>47</td>\n",
       "      <td>1</td>\n",
       "      <td>Train</td>\n",
       "      <td>2012-04-05 02:40:27.753</td>\n",
       "      <td>2121</td>\n",
       "    </tr>\n",
       "    <tr>\n",
       "      <th>3</th>\n",
       "      <td>47</td>\n",
       "      <td>1</td>\n",
       "      <td>Train</td>\n",
       "      <td>2012-04-05 02:37:02.673</td>\n",
       "      <td>848187</td>\n",
       "    </tr>\n",
       "    <tr>\n",
       "      <th>4</th>\n",
       "      <td>47</td>\n",
       "      <td>1</td>\n",
       "      <td>Train</td>\n",
       "      <td>2012-04-05 22:44:06.653</td>\n",
       "      <td>733748</td>\n",
       "    </tr>\n",
       "  </tbody>\n",
       "</table>\n",
       "</div>"
      ],
      "text/plain": [
       "   UserID  WindowID  Split          ApplicationDate   JobID\n",
       "0      47         1  Train  2012-04-04 15:56:23.537  169528\n",
       "1      47         1  Train  2012-04-06 01:03:00.003  284009\n",
       "2      47         1  Train  2012-04-05 02:40:27.753    2121\n",
       "3      47         1  Train  2012-04-05 02:37:02.673  848187\n",
       "4      47         1  Train  2012-04-05 22:44:06.653  733748"
      ]
     },
     "execution_count": 9,
     "metadata": {},
     "output_type": "execute_result"
    }
   ],
   "source": [
    "apps.head()"
   ]
  },
  {
   "cell_type": "code",
   "execution_count": 10,
   "metadata": {
    "scrolled": true
   },
   "outputs": [
    {
     "data": {
      "text/html": [
       "<div>\n",
       "<style scoped>\n",
       "    .dataframe tbody tr th:only-of-type {\n",
       "        vertical-align: middle;\n",
       "    }\n",
       "\n",
       "    .dataframe tbody tr th {\n",
       "        vertical-align: top;\n",
       "    }\n",
       "\n",
       "    .dataframe thead th {\n",
       "        text-align: right;\n",
       "    }\n",
       "</style>\n",
       "<table border=\"1\" class=\"dataframe\">\n",
       "  <thead>\n",
       "    <tr style=\"text-align: right;\">\n",
       "      <th></th>\n",
       "      <th>UserID</th>\n",
       "      <th>WindowID</th>\n",
       "      <th>Split</th>\n",
       "      <th>Sequence</th>\n",
       "      <th>JobTitle</th>\n",
       "    </tr>\n",
       "  </thead>\n",
       "  <tbody>\n",
       "    <tr>\n",
       "      <th>0</th>\n",
       "      <td>47</td>\n",
       "      <td>1</td>\n",
       "      <td>Train</td>\n",
       "      <td>1</td>\n",
       "      <td>National Space Communication Programs-Special ...</td>\n",
       "    </tr>\n",
       "    <tr>\n",
       "      <th>1</th>\n",
       "      <td>47</td>\n",
       "      <td>1</td>\n",
       "      <td>Train</td>\n",
       "      <td>2</td>\n",
       "      <td>Detention Officer</td>\n",
       "    </tr>\n",
       "    <tr>\n",
       "      <th>2</th>\n",
       "      <td>47</td>\n",
       "      <td>1</td>\n",
       "      <td>Train</td>\n",
       "      <td>3</td>\n",
       "      <td>Passenger Screener, TSA</td>\n",
       "    </tr>\n",
       "    <tr>\n",
       "      <th>3</th>\n",
       "      <td>72</td>\n",
       "      <td>1</td>\n",
       "      <td>Train</td>\n",
       "      <td>1</td>\n",
       "      <td>Lecturer, Department of Anthropology</td>\n",
       "    </tr>\n",
       "    <tr>\n",
       "      <th>4</th>\n",
       "      <td>72</td>\n",
       "      <td>1</td>\n",
       "      <td>Train</td>\n",
       "      <td>2</td>\n",
       "      <td>Student Assistant</td>\n",
       "    </tr>\n",
       "  </tbody>\n",
       "</table>\n",
       "</div>"
      ],
      "text/plain": [
       "   UserID  WindowID  Split  Sequence  \\\n",
       "0      47         1  Train         1   \n",
       "1      47         1  Train         2   \n",
       "2      47         1  Train         3   \n",
       "3      72         1  Train         1   \n",
       "4      72         1  Train         2   \n",
       "\n",
       "                                            JobTitle  \n",
       "0  National Space Communication Programs-Special ...  \n",
       "1                                  Detention Officer  \n",
       "2                            Passenger Screener, TSA  \n",
       "3               Lecturer, Department of Anthropology  \n",
       "4                                  Student Assistant  "
      ]
     },
     "execution_count": 10,
     "metadata": {},
     "output_type": "execute_result"
    }
   ],
   "source": [
    "user_history.head()"
   ]
  },
  {
   "cell_type": "code",
   "execution_count": 11,
   "metadata": {
    "scrolled": true
   },
   "outputs": [
    {
     "data": {
      "text/html": [
       "<div>\n",
       "<style scoped>\n",
       "    .dataframe tbody tr th:only-of-type {\n",
       "        vertical-align: middle;\n",
       "    }\n",
       "\n",
       "    .dataframe tbody tr th {\n",
       "        vertical-align: top;\n",
       "    }\n",
       "\n",
       "    .dataframe thead th {\n",
       "        text-align: right;\n",
       "    }\n",
       "</style>\n",
       "<table border=\"1\" class=\"dataframe\">\n",
       "  <thead>\n",
       "    <tr style=\"text-align: right;\">\n",
       "      <th></th>\n",
       "      <th>UserID</th>\n",
       "      <th>WindowID</th>\n",
       "    </tr>\n",
       "  </thead>\n",
       "  <tbody>\n",
       "    <tr>\n",
       "      <th>0</th>\n",
       "      <td>767</td>\n",
       "      <td>1</td>\n",
       "    </tr>\n",
       "    <tr>\n",
       "      <th>1</th>\n",
       "      <td>769</td>\n",
       "      <td>1</td>\n",
       "    </tr>\n",
       "    <tr>\n",
       "      <th>2</th>\n",
       "      <td>861</td>\n",
       "      <td>1</td>\n",
       "    </tr>\n",
       "    <tr>\n",
       "      <th>3</th>\n",
       "      <td>1006</td>\n",
       "      <td>1</td>\n",
       "    </tr>\n",
       "    <tr>\n",
       "      <th>4</th>\n",
       "      <td>1192</td>\n",
       "      <td>1</td>\n",
       "    </tr>\n",
       "  </tbody>\n",
       "</table>\n",
       "</div>"
      ],
      "text/plain": [
       "   UserID  WindowID\n",
       "0     767         1\n",
       "1     769         1\n",
       "2     861         1\n",
       "3    1006         1\n",
       "4    1192         1"
      ]
     },
     "execution_count": 11,
     "metadata": {},
     "output_type": "execute_result"
    }
   ],
   "source": [
    "test_users.head()"
   ]
  },
  {
   "cell_type": "markdown",
   "metadata": {},
   "source": [
    "## EDA and Preprocessing <a class=\"anchor\" id=\"EDA\"></a>"
   ]
  },
  {
   "cell_type": "markdown",
   "metadata": {},
   "source": [
    "### Splitting into Training and Testing dataset <a class=\"anchor\" id=\"split\"></a>"
   ]
  },
  {
   "cell_type": "markdown",
   "metadata": {},
   "source": [
    "with attribute split:\n",
    "- users\n",
    "- apps\n",
    "- user_history"
   ]
  },
  {
   "cell_type": "markdown",
   "metadata": {},
   "source": [
    "### users"
   ]
  },
  {
   "cell_type": "code",
   "execution_count": 12,
   "metadata": {
    "scrolled": true
   },
   "outputs": [],
   "source": [
    "users_training = users.loc[users['Split'] == 'Train']"
   ]
  },
  {
   "cell_type": "code",
   "execution_count": 13,
   "metadata": {},
   "outputs": [],
   "source": [
    "users_testing = users.loc[users['Split'] == 'Test']"
   ]
  },
  {
   "cell_type": "markdown",
   "metadata": {},
   "source": [
    "### apps"
   ]
  },
  {
   "cell_type": "code",
   "execution_count": 14,
   "metadata": {},
   "outputs": [],
   "source": [
    "apps_training = apps.loc[apps['Split'] == 'Train']"
   ]
  },
  {
   "cell_type": "code",
   "execution_count": 15,
   "metadata": {},
   "outputs": [],
   "source": [
    "apps_testing = apps.loc[apps['Split'] == 'Test']"
   ]
  },
  {
   "cell_type": "markdown",
   "metadata": {},
   "source": [
    "### user_history"
   ]
  },
  {
   "cell_type": "code",
   "execution_count": 16,
   "metadata": {},
   "outputs": [],
   "source": [
    "user_history_training = user_history.loc[user_history['Split'] == 'Train']"
   ]
  },
  {
   "cell_type": "code",
   "execution_count": 17,
   "metadata": {},
   "outputs": [],
   "source": [
    "user_history_testing = user_history.loc[user_history['Split'] == 'Test']"
   ]
  },
  {
   "cell_type": "markdown",
   "metadata": {},
   "source": [
    "#### Dataframes\n",
    "- users_training\n",
    "- users_testing\n",
    "- apps_training\n",
    "- apps_testing\n",
    "- user_history_training\n",
    "- user_history_testing"
   ]
  },
  {
   "cell_type": "markdown",
   "metadata": {},
   "source": [
    "## Preprocessing <a class=\"anchor\" id=\"preprocessing\"></a>\n",
    "- Considering only US\n",
    "- Removing data with empty state"
   ]
  },
  {
   "cell_type": "code",
   "execution_count": 18,
   "metadata": {},
   "outputs": [],
   "source": [
    "jobs_US = jobs.loc[jobs['Country'] == 'US']"
   ]
  },
  {
   "cell_type": "code",
   "execution_count": 19,
   "metadata": {
    "scrolled": true
   },
   "outputs": [
    {
     "data": {
      "text/html": [
       "<div>\n",
       "<style scoped>\n",
       "    .dataframe tbody tr th:only-of-type {\n",
       "        vertical-align: middle;\n",
       "    }\n",
       "\n",
       "    .dataframe tbody tr th {\n",
       "        vertical-align: top;\n",
       "    }\n",
       "\n",
       "    .dataframe thead th {\n",
       "        text-align: right;\n",
       "    }\n",
       "</style>\n",
       "<table border=\"1\" class=\"dataframe\">\n",
       "  <thead>\n",
       "    <tr style=\"text-align: right;\">\n",
       "      <th></th>\n",
       "      <th>City</th>\n",
       "      <th>State</th>\n",
       "      <th>Country</th>\n",
       "    </tr>\n",
       "  </thead>\n",
       "  <tbody>\n",
       "    <tr>\n",
       "      <th>0</th>\n",
       "      <td>Washington</td>\n",
       "      <td>DC</td>\n",
       "      <td>US</td>\n",
       "    </tr>\n",
       "    <tr>\n",
       "      <th>1</th>\n",
       "      <td>Charlotte</td>\n",
       "      <td>NC</td>\n",
       "      <td>US</td>\n",
       "    </tr>\n",
       "    <tr>\n",
       "      <th>2</th>\n",
       "      <td>Winter Park</td>\n",
       "      <td>FL</td>\n",
       "      <td>US</td>\n",
       "    </tr>\n",
       "    <tr>\n",
       "      <th>3</th>\n",
       "      <td>Orlando</td>\n",
       "      <td>FL</td>\n",
       "      <td>US</td>\n",
       "    </tr>\n",
       "    <tr>\n",
       "      <th>4</th>\n",
       "      <td>Orlando</td>\n",
       "      <td>FL</td>\n",
       "      <td>US</td>\n",
       "    </tr>\n",
       "    <tr>\n",
       "      <th>...</th>\n",
       "      <td>...</td>\n",
       "      <td>...</td>\n",
       "      <td>...</td>\n",
       "    </tr>\n",
       "    <tr>\n",
       "      <th>1091918</th>\n",
       "      <td>Amsterdam</td>\n",
       "      <td>NY</td>\n",
       "      <td>US</td>\n",
       "    </tr>\n",
       "    <tr>\n",
       "      <th>1091919</th>\n",
       "      <td>Birmingham</td>\n",
       "      <td>AL</td>\n",
       "      <td>US</td>\n",
       "    </tr>\n",
       "    <tr>\n",
       "      <th>1091920</th>\n",
       "      <td>Carthage</td>\n",
       "      <td>MS</td>\n",
       "      <td>US</td>\n",
       "    </tr>\n",
       "    <tr>\n",
       "      <th>1091921</th>\n",
       "      <td>Warren</td>\n",
       "      <td>MI</td>\n",
       "      <td>US</td>\n",
       "    </tr>\n",
       "    <tr>\n",
       "      <th>1091922</th>\n",
       "      <td>Syracuse</td>\n",
       "      <td>NY</td>\n",
       "      <td>US</td>\n",
       "    </tr>\n",
       "  </tbody>\n",
       "</table>\n",
       "<p>1090462 rows × 3 columns</p>\n",
       "</div>"
      ],
      "text/plain": [
       "                City State Country\n",
       "0         Washington    DC      US\n",
       "1          Charlotte    NC      US\n",
       "2        Winter Park    FL      US\n",
       "3            Orlando    FL      US\n",
       "4            Orlando    FL      US\n",
       "...              ...   ...     ...\n",
       "1091918    Amsterdam    NY      US\n",
       "1091919   Birmingham    AL      US\n",
       "1091920     Carthage    MS      US\n",
       "1091921       Warren    MI      US\n",
       "1091922     Syracuse    NY      US\n",
       "\n",
       "[1090462 rows x 3 columns]"
      ]
     },
     "execution_count": 19,
     "metadata": {},
     "output_type": "execute_result"
    }
   ],
   "source": [
    "jobs_US[['City','State','Country']]"
   ]
  },
  {
   "cell_type": "code",
   "execution_count": 20,
   "metadata": {},
   "outputs": [
    {
     "data": {
      "text/html": [
       "<div>\n",
       "<style scoped>\n",
       "    .dataframe tbody tr th:only-of-type {\n",
       "        vertical-align: middle;\n",
       "    }\n",
       "\n",
       "    .dataframe tbody tr th {\n",
       "        vertical-align: top;\n",
       "    }\n",
       "\n",
       "    .dataframe thead th {\n",
       "        text-align: right;\n",
       "    }\n",
       "</style>\n",
       "<table border=\"1\" class=\"dataframe\">\n",
       "  <thead>\n",
       "    <tr style=\"text-align: right;\">\n",
       "      <th></th>\n",
       "      <th>City</th>\n",
       "      <th>State</th>\n",
       "      <th>Country</th>\n",
       "      <th>Locationwise</th>\n",
       "    </tr>\n",
       "  </thead>\n",
       "  <tbody>\n",
       "    <tr>\n",
       "      <th>6601</th>\n",
       "      <td>Houston</td>\n",
       "      <td>TX</td>\n",
       "      <td>US</td>\n",
       "      <td>19306</td>\n",
       "    </tr>\n",
       "    <tr>\n",
       "      <th>9835</th>\n",
       "      <td>New York</td>\n",
       "      <td>NY</td>\n",
       "      <td>US</td>\n",
       "      <td>18395</td>\n",
       "    </tr>\n",
       "    <tr>\n",
       "      <th>2651</th>\n",
       "      <td>Chicago</td>\n",
       "      <td>IL</td>\n",
       "      <td>US</td>\n",
       "      <td>17806</td>\n",
       "    </tr>\n",
       "    <tr>\n",
       "      <th>3475</th>\n",
       "      <td>Dallas</td>\n",
       "      <td>TX</td>\n",
       "      <td>US</td>\n",
       "      <td>13139</td>\n",
       "    </tr>\n",
       "    <tr>\n",
       "      <th>610</th>\n",
       "      <td>Atlanta</td>\n",
       "      <td>GA</td>\n",
       "      <td>US</td>\n",
       "      <td>12352</td>\n",
       "    </tr>\n",
       "  </tbody>\n",
       "</table>\n",
       "</div>"
      ],
      "text/plain": [
       "          City State Country  Locationwise\n",
       "6601   Houston    TX      US         19306\n",
       "9835  New York    NY      US         18395\n",
       "2651   Chicago    IL      US         17806\n",
       "3475    Dallas    TX      US         13139\n",
       "610    Atlanta    GA      US         12352"
      ]
     },
     "execution_count": 20,
     "metadata": {},
     "output_type": "execute_result"
    }
   ],
   "source": [
    "jobs_US.groupby(['City', 'State', 'Country']).size().reset_index(name = 'Locationwise').sort_values('Locationwise', ascending = False).head()"
   ]
  },
  {
   "cell_type": "code",
   "execution_count": 21,
   "metadata": {},
   "outputs": [],
   "source": [
    "statewise_jobs = jobs_US.groupby(['State']).size().reset_index(name = 'Statewise').sort_values('Statewise', ascending = False)"
   ]
  },
  {
   "cell_type": "code",
   "execution_count": 22,
   "metadata": {
    "scrolled": true
   },
   "outputs": [
    {
     "data": {
      "text/html": [
       "<div>\n",
       "<style scoped>\n",
       "    .dataframe tbody tr th:only-of-type {\n",
       "        vertical-align: middle;\n",
       "    }\n",
       "\n",
       "    .dataframe tbody tr th {\n",
       "        vertical-align: top;\n",
       "    }\n",
       "\n",
       "    .dataframe thead th {\n",
       "        text-align: right;\n",
       "    }\n",
       "</style>\n",
       "<table border=\"1\" class=\"dataframe\">\n",
       "  <thead>\n",
       "    <tr style=\"text-align: right;\">\n",
       "      <th></th>\n",
       "      <th>City</th>\n",
       "      <th>Citywise</th>\n",
       "    </tr>\n",
       "  </thead>\n",
       "  <tbody>\n",
       "    <tr>\n",
       "      <th>4564</th>\n",
       "      <td>Houston</td>\n",
       "      <td>19323</td>\n",
       "    </tr>\n",
       "    <tr>\n",
       "      <th>6809</th>\n",
       "      <td>New York</td>\n",
       "      <td>18402</td>\n",
       "    </tr>\n",
       "    <tr>\n",
       "      <th>1782</th>\n",
       "      <td>Chicago</td>\n",
       "      <td>17806</td>\n",
       "    </tr>\n",
       "    <tr>\n",
       "      <th>2351</th>\n",
       "      <td>Dallas</td>\n",
       "      <td>13202</td>\n",
       "    </tr>\n",
       "    <tr>\n",
       "      <th>408</th>\n",
       "      <td>Atlanta</td>\n",
       "      <td>12365</td>\n",
       "    </tr>\n",
       "    <tr>\n",
       "      <th>...</th>\n",
       "      <td>...</td>\n",
       "      <td>...</td>\n",
       "    </tr>\n",
       "    <tr>\n",
       "      <th>2293</th>\n",
       "      <td>Cuchillo</td>\n",
       "      <td>1</td>\n",
       "    </tr>\n",
       "    <tr>\n",
       "      <th>7652</th>\n",
       "      <td>Picabo</td>\n",
       "      <td>1</td>\n",
       "    </tr>\n",
       "    <tr>\n",
       "      <th>2290</th>\n",
       "      <td>Crystola</td>\n",
       "      <td>1</td>\n",
       "    </tr>\n",
       "    <tr>\n",
       "      <th>2286</th>\n",
       "      <td>Crystal Hill</td>\n",
       "      <td>1</td>\n",
       "    </tr>\n",
       "    <tr>\n",
       "      <th>0</th>\n",
       "      <td>29 Palms</td>\n",
       "      <td>1</td>\n",
       "    </tr>\n",
       "  </tbody>\n",
       "</table>\n",
       "<p>10913 rows × 2 columns</p>\n",
       "</div>"
      ],
      "text/plain": [
       "              City  Citywise\n",
       "4564       Houston     19323\n",
       "6809      New York     18402\n",
       "1782       Chicago     17806\n",
       "2351        Dallas     13202\n",
       "408        Atlanta     12365\n",
       "...            ...       ...\n",
       "2293      Cuchillo         1\n",
       "7652        Picabo         1\n",
       "2290      Crystola         1\n",
       "2286  Crystal Hill         1\n",
       "0         29 Palms         1\n",
       "\n",
       "[10913 rows x 2 columns]"
      ]
     },
     "execution_count": 22,
     "metadata": {},
     "output_type": "execute_result"
    }
   ],
   "source": [
    "jobs_US.groupby(['City']).size().reset_index(name='Citywise').sort_values('Citywise', ascending=False)"
   ]
  },
  {
   "cell_type": "code",
   "execution_count": 23,
   "metadata": {},
   "outputs": [],
   "source": [
    "citywise_jobs = jobs_US.groupby(['City']).size().reset_index(name='Citywise').sort_values('Citywise', ascending=False)"
   ]
  },
  {
   "cell_type": "code",
   "execution_count": 24,
   "metadata": {},
   "outputs": [],
   "source": [
    "citywise_jobs_top = citywise_jobs.loc[citywise_jobs['Citywise']>=12]"
   ]
  },
  {
   "cell_type": "markdown",
   "metadata": {},
   "source": [
    "- jobs_US\n",
    "- statewise_jobs\n",
    "- citywise_jobs\n",
    "- citywise_jobs_top"
   ]
  },
  {
   "cell_type": "markdown",
   "metadata": {},
   "source": [
    "### User profile based on location"
   ]
  },
  {
   "cell_type": "code",
   "execution_count": 25,
   "metadata": {},
   "outputs": [],
   "source": [
    "users_training_US = users_training.loc[users_training['Country'] == 'US']"
   ]
  },
  {
   "cell_type": "code",
   "execution_count": 26,
   "metadata": {},
   "outputs": [
    {
     "data": {
      "text/html": [
       "<div>\n",
       "<style scoped>\n",
       "    .dataframe tbody tr th:only-of-type {\n",
       "        vertical-align: middle;\n",
       "    }\n",
       "\n",
       "    .dataframe tbody tr th {\n",
       "        vertical-align: top;\n",
       "    }\n",
       "\n",
       "    .dataframe thead th {\n",
       "        text-align: right;\n",
       "    }\n",
       "</style>\n",
       "<table border=\"1\" class=\"dataframe\">\n",
       "  <thead>\n",
       "    <tr style=\"text-align: right;\">\n",
       "      <th></th>\n",
       "      <th>State</th>\n",
       "      <th>statewise</th>\n",
       "    </tr>\n",
       "  </thead>\n",
       "  <tbody>\n",
       "    <tr>\n",
       "      <th>11</th>\n",
       "      <td>FL</td>\n",
       "      <td>40381</td>\n",
       "    </tr>\n",
       "    <tr>\n",
       "      <th>47</th>\n",
       "      <td>TX</td>\n",
       "      <td>33260</td>\n",
       "    </tr>\n",
       "    <tr>\n",
       "      <th>6</th>\n",
       "      <td>CA</td>\n",
       "      <td>31141</td>\n",
       "    </tr>\n",
       "    <tr>\n",
       "      <th>17</th>\n",
       "      <td>IL</td>\n",
       "      <td>22557</td>\n",
       "    </tr>\n",
       "    <tr>\n",
       "      <th>37</th>\n",
       "      <td>NY</td>\n",
       "      <td>19299</td>\n",
       "    </tr>\n",
       "  </tbody>\n",
       "</table>\n",
       "</div>"
      ],
      "text/plain": [
       "   State  statewise\n",
       "11    FL      40381\n",
       "47    TX      33260\n",
       "6     CA      31141\n",
       "17    IL      22557\n",
       "37    NY      19299"
      ]
     },
     "execution_count": 26,
     "metadata": {},
     "output_type": "execute_result"
    }
   ],
   "source": [
    "users_training_statewise = users_training_US.groupby('State').size().reset_index(name='statewise').sort_values('statewise',ascending=False)\n",
    "users_training_statewise.head()"
   ]
  },
  {
   "cell_type": "code",
   "execution_count": 27,
   "metadata": {},
   "outputs": [],
   "source": [
    "users_training_statewise_top = users_training_statewise.loc[users_training_statewise['statewise'] >= 12]"
   ]
  },
  {
   "cell_type": "code",
   "execution_count": 28,
   "metadata": {
    "scrolled": true
   },
   "outputs": [
    {
     "data": {
      "text/html": [
       "<div>\n",
       "<style scoped>\n",
       "    .dataframe tbody tr th:only-of-type {\n",
       "        vertical-align: middle;\n",
       "    }\n",
       "\n",
       "    .dataframe tbody tr th {\n",
       "        vertical-align: top;\n",
       "    }\n",
       "\n",
       "    .dataframe thead th {\n",
       "        text-align: right;\n",
       "    }\n",
       "</style>\n",
       "<table border=\"1\" class=\"dataframe\">\n",
       "  <thead>\n",
       "    <tr style=\"text-align: right;\">\n",
       "      <th></th>\n",
       "      <th>City</th>\n",
       "      <th>citywise</th>\n",
       "    </tr>\n",
       "  </thead>\n",
       "  <tbody>\n",
       "    <tr>\n",
       "      <th>1528</th>\n",
       "      <td>Chicago</td>\n",
       "      <td>6964</td>\n",
       "    </tr>\n",
       "    <tr>\n",
       "      <th>4066</th>\n",
       "      <td>Houston</td>\n",
       "      <td>5487</td>\n",
       "    </tr>\n",
       "    <tr>\n",
       "      <th>4177</th>\n",
       "      <td>Indianapolis</td>\n",
       "      <td>4450</td>\n",
       "    </tr>\n",
       "    <tr>\n",
       "      <th>5604</th>\n",
       "      <td>Miami</td>\n",
       "      <td>4359</td>\n",
       "    </tr>\n",
       "    <tr>\n",
       "      <th>6965</th>\n",
       "      <td>Philadelphia</td>\n",
       "      <td>4347</td>\n",
       "    </tr>\n",
       "  </tbody>\n",
       "</table>\n",
       "</div>"
      ],
      "text/plain": [
       "              City  citywise\n",
       "1528       Chicago      6964\n",
       "4066       Houston      5487\n",
       "4177  Indianapolis      4450\n",
       "5604         Miami      4359\n",
       "6965  Philadelphia      4347"
      ]
     },
     "execution_count": 28,
     "metadata": {},
     "output_type": "execute_result"
    }
   ],
   "source": [
    "users_training_citywise = users_training_US.groupby(['City']).size().reset_index(name='citywise').sort_values('citywise',ascending=False)\n",
    "users_training_citywise.head()"
   ]
  },
  {
   "cell_type": "code",
   "execution_count": 29,
   "metadata": {},
   "outputs": [],
   "source": [
    "users_training_citywise_top = users_training_citywise.loc[users_training_citywise['citywise'] >= 12]"
   ]
  },
  {
   "cell_type": "markdown",
   "metadata": {},
   "source": [
    "- users_training_US\n",
    "- users_training_statewise\n",
    "- users_training_citywise\n",
    "- users_training_citywise_top"
   ]
  },
  {
   "cell_type": "code",
   "execution_count": 30,
   "metadata": {},
   "outputs": [],
   "source": [
    "import ast \n",
    "from scipy import stats\n",
    "from ast import literal_eval\n",
    "from sklearn.feature_extraction.text import TfidfVectorizer, CountVectorizer\n",
    "from sklearn.metrics.pairwise import linear_kernel, cosine_similarity\n"
   ]
  },
  {
   "cell_type": "markdown",
   "metadata": {},
   "source": [
    "## Building model <a class=\"anchor\" id=\"model\"></a>"
   ]
  },
  {
   "cell_type": "code",
   "execution_count": 31,
   "metadata": {},
   "outputs": [
    {
     "data": {
      "text/plain": [
       "Index(['JobID', 'WindowID', 'Title', 'Description', 'Requirements', 'City',\n",
       "       'State', 'Country', 'Zip5', 'StartDate', 'EndDate'],\n",
       "      dtype='object')"
      ]
     },
     "execution_count": 31,
     "metadata": {},
     "output_type": "execute_result"
    }
   ],
   "source": [
    "jobs_US.columns"
   ]
  },
  {
   "cell_type": "code",
   "execution_count": 32,
   "metadata": {
    "scrolled": true
   },
   "outputs": [
    {
     "data": {
      "text/html": [
       "<div>\n",
       "<style scoped>\n",
       "    .dataframe tbody tr th:only-of-type {\n",
       "        vertical-align: middle;\n",
       "    }\n",
       "\n",
       "    .dataframe tbody tr th {\n",
       "        vertical-align: top;\n",
       "    }\n",
       "\n",
       "    .dataframe thead th {\n",
       "        text-align: right;\n",
       "    }\n",
       "</style>\n",
       "<table border=\"1\" class=\"dataframe\">\n",
       "  <thead>\n",
       "    <tr style=\"text-align: right;\">\n",
       "      <th></th>\n",
       "      <th>0</th>\n",
       "      <th>1</th>\n",
       "      <th>2</th>\n",
       "      <th>3</th>\n",
       "      <th>4</th>\n",
       "    </tr>\n",
       "  </thead>\n",
       "  <tbody>\n",
       "    <tr>\n",
       "      <th>JobID</th>\n",
       "      <td>1</td>\n",
       "      <td>4</td>\n",
       "      <td>7</td>\n",
       "      <td>8</td>\n",
       "      <td>9</td>\n",
       "    </tr>\n",
       "    <tr>\n",
       "      <th>WindowID</th>\n",
       "      <td>1</td>\n",
       "      <td>1</td>\n",
       "      <td>1</td>\n",
       "      <td>1</td>\n",
       "      <td>1</td>\n",
       "    </tr>\n",
       "    <tr>\n",
       "      <th>Title</th>\n",
       "      <td>Security Engineer/Technical Lead</td>\n",
       "      <td>SAP Business Analyst / WM</td>\n",
       "      <td>P/T HUMAN RESOURCES ASSISTANT</td>\n",
       "      <td>Route Delivery Drivers</td>\n",
       "      <td>Housekeeping</td>\n",
       "    </tr>\n",
       "    <tr>\n",
       "      <th>Description</th>\n",
       "      <td>&lt;p&gt;Security Clearance Required:&amp;nbsp; Top Secr...</td>\n",
       "      <td>&lt;strong&gt;NO Corp. to Corp resumes&amp;nbsp;are bein...</td>\n",
       "      <td>&lt;b&gt;    &lt;b&gt; P/T HUMAN RESOURCES ASSISTANT&lt;/b&gt; &lt;...</td>\n",
       "      <td>CITY BEVERAGES Come to work for the best in th...</td>\n",
       "      <td>I make  sure every part of their day is magica...</td>\n",
       "    </tr>\n",
       "    <tr>\n",
       "      <th>Requirements</th>\n",
       "      <td>&lt;p&gt;SKILL SET&lt;/p&gt;\\r&lt;p&gt;&amp;nbsp;&lt;/p&gt;\\r&lt;p&gt;Network Se...</td>\n",
       "      <td>&lt;p&gt;&lt;b&gt;WHAT YOU NEED: &lt;/b&gt;&lt;/p&gt;\\r&lt;p&gt;Four year co...</td>\n",
       "      <td>Please refer to the Job Description to view th...</td>\n",
       "      <td>Please refer to the Job Description to view th...</td>\n",
       "      <td>Please refer to the Job Description to view th...</td>\n",
       "    </tr>\n",
       "    <tr>\n",
       "      <th>City</th>\n",
       "      <td>Washington</td>\n",
       "      <td>Charlotte</td>\n",
       "      <td>Winter Park</td>\n",
       "      <td>Orlando</td>\n",
       "      <td>Orlando</td>\n",
       "    </tr>\n",
       "    <tr>\n",
       "      <th>State</th>\n",
       "      <td>DC</td>\n",
       "      <td>NC</td>\n",
       "      <td>FL</td>\n",
       "      <td>FL</td>\n",
       "      <td>FL</td>\n",
       "    </tr>\n",
       "    <tr>\n",
       "      <th>Country</th>\n",
       "      <td>US</td>\n",
       "      <td>US</td>\n",
       "      <td>US</td>\n",
       "      <td>US</td>\n",
       "      <td>US</td>\n",
       "    </tr>\n",
       "    <tr>\n",
       "      <th>Zip5</th>\n",
       "      <td>20531</td>\n",
       "      <td>28217</td>\n",
       "      <td>32792</td>\n",
       "      <td>NaN</td>\n",
       "      <td>NaN</td>\n",
       "    </tr>\n",
       "    <tr>\n",
       "      <th>StartDate</th>\n",
       "      <td>2012-03-07 13:17:01.643</td>\n",
       "      <td>2012-03-21 02:03:44.137</td>\n",
       "      <td>2012-03-02 16:36:55.447</td>\n",
       "      <td>2012-03-03 09:01:10.077</td>\n",
       "      <td>2012-03-03 09:01:11.88</td>\n",
       "    </tr>\n",
       "    <tr>\n",
       "      <th>EndDate</th>\n",
       "      <td>2012-04-06 23:59:59</td>\n",
       "      <td>2012-04-20 23:59:59</td>\n",
       "      <td>2012-04-01 23:59:59</td>\n",
       "      <td>2012-04-02 23:59:59</td>\n",
       "      <td>2012-04-02 23:59:59</td>\n",
       "    </tr>\n",
       "  </tbody>\n",
       "</table>\n",
       "</div>"
      ],
      "text/plain": [
       "                                                              0  \\\n",
       "JobID                                                         1   \n",
       "WindowID                                                      1   \n",
       "Title                          Security Engineer/Technical Lead   \n",
       "Description   <p>Security Clearance Required:&nbsp; Top Secr...   \n",
       "Requirements  <p>SKILL SET</p>\\r<p>&nbsp;</p>\\r<p>Network Se...   \n",
       "City                                                 Washington   \n",
       "State                                                        DC   \n",
       "Country                                                      US   \n",
       "Zip5                                                      20531   \n",
       "StartDate                               2012-03-07 13:17:01.643   \n",
       "EndDate                                     2012-04-06 23:59:59   \n",
       "\n",
       "                                                              1  \\\n",
       "JobID                                                         4   \n",
       "WindowID                                                      1   \n",
       "Title                                 SAP Business Analyst / WM   \n",
       "Description   <strong>NO Corp. to Corp resumes&nbsp;are bein...   \n",
       "Requirements  <p><b>WHAT YOU NEED: </b></p>\\r<p>Four year co...   \n",
       "City                                                  Charlotte   \n",
       "State                                                        NC   \n",
       "Country                                                      US   \n",
       "Zip5                                                      28217   \n",
       "StartDate                               2012-03-21 02:03:44.137   \n",
       "EndDate                                     2012-04-20 23:59:59   \n",
       "\n",
       "                                                              2  \\\n",
       "JobID                                                         7   \n",
       "WindowID                                                      1   \n",
       "Title                             P/T HUMAN RESOURCES ASSISTANT   \n",
       "Description   <b>    <b> P/T HUMAN RESOURCES ASSISTANT</b> <...   \n",
       "Requirements  Please refer to the Job Description to view th...   \n",
       "City                                                Winter Park   \n",
       "State                                                        FL   \n",
       "Country                                                      US   \n",
       "Zip5                                                      32792   \n",
       "StartDate                               2012-03-02 16:36:55.447   \n",
       "EndDate                                     2012-04-01 23:59:59   \n",
       "\n",
       "                                                              3  \\\n",
       "JobID                                                         8   \n",
       "WindowID                                                      1   \n",
       "Title                                    Route Delivery Drivers   \n",
       "Description   CITY BEVERAGES Come to work for the best in th...   \n",
       "Requirements  Please refer to the Job Description to view th...   \n",
       "City                                                    Orlando   \n",
       "State                                                        FL   \n",
       "Country                                                      US   \n",
       "Zip5                                                        NaN   \n",
       "StartDate                               2012-03-03 09:01:10.077   \n",
       "EndDate                                     2012-04-02 23:59:59   \n",
       "\n",
       "                                                              4  \n",
       "JobID                                                         9  \n",
       "WindowID                                                      1  \n",
       "Title                                              Housekeeping  \n",
       "Description   I make  sure every part of their day is magica...  \n",
       "Requirements  Please refer to the Job Description to view th...  \n",
       "City                                                    Orlando  \n",
       "State                                                        FL  \n",
       "Country                                                      US  \n",
       "Zip5                                                        NaN  \n",
       "StartDate                                2012-03-03 09:01:11.88  \n",
       "EndDate                                     2012-04-02 23:59:59  "
      ]
     },
     "execution_count": 32,
     "metadata": {},
     "output_type": "execute_result"
    }
   ],
   "source": [
    "jobs_US.head().transpose()"
   ]
  },
  {
   "cell_type": "code",
   "execution_count": 33,
   "metadata": {},
   "outputs": [],
   "source": [
    "jobs_US_base_line = jobs_US.iloc[0:10000,0:8]"
   ]
  },
  {
   "cell_type": "code",
   "execution_count": 34,
   "metadata": {
    "scrolled": false
   },
   "outputs": [
    {
     "data": {
      "text/html": [
       "<div>\n",
       "<style scoped>\n",
       "    .dataframe tbody tr th:only-of-type {\n",
       "        vertical-align: middle;\n",
       "    }\n",
       "\n",
       "    .dataframe tbody tr th {\n",
       "        vertical-align: top;\n",
       "    }\n",
       "\n",
       "    .dataframe thead th {\n",
       "        text-align: right;\n",
       "    }\n",
       "</style>\n",
       "<table border=\"1\" class=\"dataframe\">\n",
       "  <thead>\n",
       "    <tr style=\"text-align: right;\">\n",
       "      <th></th>\n",
       "      <th>JobID</th>\n",
       "      <th>WindowID</th>\n",
       "      <th>Title</th>\n",
       "      <th>Description</th>\n",
       "      <th>Requirements</th>\n",
       "      <th>City</th>\n",
       "      <th>State</th>\n",
       "      <th>Country</th>\n",
       "    </tr>\n",
       "  </thead>\n",
       "  <tbody>\n",
       "    <tr>\n",
       "      <th>0</th>\n",
       "      <td>1</td>\n",
       "      <td>1</td>\n",
       "      <td>Security Engineer/Technical Lead</td>\n",
       "      <td>&lt;p&gt;Security Clearance Required:&amp;nbsp; Top Secr...</td>\n",
       "      <td>&lt;p&gt;SKILL SET&lt;/p&gt;\\r&lt;p&gt;&amp;nbsp;&lt;/p&gt;\\r&lt;p&gt;Network Se...</td>\n",
       "      <td>Washington</td>\n",
       "      <td>DC</td>\n",
       "      <td>US</td>\n",
       "    </tr>\n",
       "    <tr>\n",
       "      <th>1</th>\n",
       "      <td>4</td>\n",
       "      <td>1</td>\n",
       "      <td>SAP Business Analyst / WM</td>\n",
       "      <td>&lt;strong&gt;NO Corp. to Corp resumes&amp;nbsp;are bein...</td>\n",
       "      <td>&lt;p&gt;&lt;b&gt;WHAT YOU NEED: &lt;/b&gt;&lt;/p&gt;\\r&lt;p&gt;Four year co...</td>\n",
       "      <td>Charlotte</td>\n",
       "      <td>NC</td>\n",
       "      <td>US</td>\n",
       "    </tr>\n",
       "    <tr>\n",
       "      <th>2</th>\n",
       "      <td>7</td>\n",
       "      <td>1</td>\n",
       "      <td>P/T HUMAN RESOURCES ASSISTANT</td>\n",
       "      <td>&lt;b&gt;    &lt;b&gt; P/T HUMAN RESOURCES ASSISTANT&lt;/b&gt; &lt;...</td>\n",
       "      <td>Please refer to the Job Description to view th...</td>\n",
       "      <td>Winter Park</td>\n",
       "      <td>FL</td>\n",
       "      <td>US</td>\n",
       "    </tr>\n",
       "    <tr>\n",
       "      <th>3</th>\n",
       "      <td>8</td>\n",
       "      <td>1</td>\n",
       "      <td>Route Delivery Drivers</td>\n",
       "      <td>CITY BEVERAGES Come to work for the best in th...</td>\n",
       "      <td>Please refer to the Job Description to view th...</td>\n",
       "      <td>Orlando</td>\n",
       "      <td>FL</td>\n",
       "      <td>US</td>\n",
       "    </tr>\n",
       "    <tr>\n",
       "      <th>4</th>\n",
       "      <td>9</td>\n",
       "      <td>1</td>\n",
       "      <td>Housekeeping</td>\n",
       "      <td>I make  sure every part of their day is magica...</td>\n",
       "      <td>Please refer to the Job Description to view th...</td>\n",
       "      <td>Orlando</td>\n",
       "      <td>FL</td>\n",
       "      <td>US</td>\n",
       "    </tr>\n",
       "  </tbody>\n",
       "</table>\n",
       "</div>"
      ],
      "text/plain": [
       "   JobID  WindowID                             Title  \\\n",
       "0      1         1  Security Engineer/Technical Lead   \n",
       "1      4         1         SAP Business Analyst / WM   \n",
       "2      7         1     P/T HUMAN RESOURCES ASSISTANT   \n",
       "3      8         1            Route Delivery Drivers   \n",
       "4      9         1                      Housekeeping   \n",
       "\n",
       "                                         Description  \\\n",
       "0  <p>Security Clearance Required:&nbsp; Top Secr...   \n",
       "1  <strong>NO Corp. to Corp resumes&nbsp;are bein...   \n",
       "2  <b>    <b> P/T HUMAN RESOURCES ASSISTANT</b> <...   \n",
       "3  CITY BEVERAGES Come to work for the best in th...   \n",
       "4  I make  sure every part of their day is magica...   \n",
       "\n",
       "                                        Requirements         City State  \\\n",
       "0  <p>SKILL SET</p>\\r<p>&nbsp;</p>\\r<p>Network Se...   Washington    DC   \n",
       "1  <p><b>WHAT YOU NEED: </b></p>\\r<p>Four year co...    Charlotte    NC   \n",
       "2  Please refer to the Job Description to view th...  Winter Park    FL   \n",
       "3  Please refer to the Job Description to view th...      Orlando    FL   \n",
       "4  Please refer to the Job Description to view th...      Orlando    FL   \n",
       "\n",
       "  Country  \n",
       "0      US  \n",
       "1      US  \n",
       "2      US  \n",
       "3      US  \n",
       "4      US  "
      ]
     },
     "execution_count": 34,
     "metadata": {},
     "output_type": "execute_result"
    }
   ],
   "source": [
    "jobs_US_base_line.head()"
   ]
  },
  {
   "cell_type": "code",
   "execution_count": 35,
   "metadata": {},
   "outputs": [],
   "source": [
    "jobs_US_base_line['Title'] = jobs_US_base_line['Title'].fillna('')\n",
    "jobs_US_base_line['Description'] = jobs_US_base_line['Description'].fillna('')\n",
    "#jobs_US_base_line['Requirements'] = jobs_US_base_line['Requirements'].fillna('')\n",
    "jobs_US_base_line['Description'] = jobs_US_base_line['Title'] + jobs_US_base_line['Description']"
   ]
  },
  {
   "cell_type": "markdown",
   "metadata": {},
   "source": [
    "## Clean html <a class=\"anchor\" id=\"html\"></a>"
   ]
  },
  {
   "cell_type": "code",
   "execution_count": 36,
   "metadata": {
    "scrolled": true
   },
   "outputs": [],
   "source": [
    "import re\n",
    "\n",
    "def preprocessor(text):\n",
    "    text = text.replace('\\\\r', '').replace('&nbsp', '').replace('\\n', '')\n",
    "    text = re.sub('<[^>]*>', '', text)\n",
    "    emoticons = re.findall('(?::|;|=)(?:-)?(?:\\)|\\(|D|P)', text)\n",
    "    text = re.sub('[\\W]+', ' ', text.lower()) +\\\n",
    "        ' '.join(emoticons).replace('-', '')\n",
    "    return text"
   ]
  },
  {
   "cell_type": "code",
   "execution_count": 37,
   "metadata": {
    "scrolled": true
   },
   "outputs": [],
   "source": [
    "jobs_US_base_line['Description'] = jobs_US_base_line['Description'].astype(dtype='str').apply(preprocessor)"
   ]
  },
  {
   "cell_type": "code",
   "execution_count": 38,
   "metadata": {
    "scrolled": false
   },
   "outputs": [
    {
     "data": {
      "text/plain": [
       "'security engineer technical leadsecurity clearance required top secret job number tmr 447location of job washington dctmr inc is an equal employment opportunity companyfor more job opportunities with tmr visit our website www tmrhq comsend resumes to hr tmrhq2 com job summary leads the customer rsquo s overall cyber security strategy formalizes service offerings consisted with itil best practices and provides design and architecture support provide security design architecture support for ojp rsquo s it security division itsd leads the secops team in the day to day ojp security operations support provides direction when needed in a security incident or technical issues works in concert with network operations on design integration for best security posture supports business development functions including capture management proposal development and responses and other initiatives to include conferences trade shows webinars developing white papers and the like identifies resources and mentors in house talent to ensure tmr remains responsive to growing initiatives and contracts with qualified personnel '"
      ]
     },
     "execution_count": 38,
     "metadata": {},
     "output_type": "execute_result"
    }
   ],
   "source": [
    "jobs_US_base_line.loc[0,'Description']"
   ]
  },
  {
   "cell_type": "markdown",
   "metadata": {},
   "source": [
    "## Dataset"
   ]
  },
  {
   "cell_type": "markdown",
   "metadata": {},
   "source": [
    "**From here onwards use `jobs_US_base_line` data frame to work on, which is selected by `jobs_US.iloc[0:10000,0:8]`.**"
   ]
  },
  {
   "cell_type": "code",
   "execution_count": 39,
   "metadata": {},
   "outputs": [
    {
     "data": {
      "text/html": [
       "<div>\n",
       "<style scoped>\n",
       "    .dataframe tbody tr th:only-of-type {\n",
       "        vertical-align: middle;\n",
       "    }\n",
       "\n",
       "    .dataframe tbody tr th {\n",
       "        vertical-align: top;\n",
       "    }\n",
       "\n",
       "    .dataframe thead th {\n",
       "        text-align: right;\n",
       "    }\n",
       "</style>\n",
       "<table border=\"1\" class=\"dataframe\">\n",
       "  <thead>\n",
       "    <tr style=\"text-align: right;\">\n",
       "      <th></th>\n",
       "      <th>JobID</th>\n",
       "      <th>WindowID</th>\n",
       "      <th>Title</th>\n",
       "      <th>Description</th>\n",
       "      <th>Requirements</th>\n",
       "      <th>City</th>\n",
       "      <th>State</th>\n",
       "      <th>Country</th>\n",
       "    </tr>\n",
       "  </thead>\n",
       "  <tbody>\n",
       "    <tr>\n",
       "      <th>0</th>\n",
       "      <td>1</td>\n",
       "      <td>1</td>\n",
       "      <td>Security Engineer/Technical Lead</td>\n",
       "      <td>security engineer technical leadsecurity clear...</td>\n",
       "      <td>&lt;p&gt;SKILL SET&lt;/p&gt;\\r&lt;p&gt;&amp;nbsp;&lt;/p&gt;\\r&lt;p&gt;Network Se...</td>\n",
       "      <td>Washington</td>\n",
       "      <td>DC</td>\n",
       "      <td>US</td>\n",
       "    </tr>\n",
       "    <tr>\n",
       "      <th>1</th>\n",
       "      <td>4</td>\n",
       "      <td>1</td>\n",
       "      <td>SAP Business Analyst / WM</td>\n",
       "      <td>sap business analyst wmno corp to corp resumes...</td>\n",
       "      <td>&lt;p&gt;&lt;b&gt;WHAT YOU NEED: &lt;/b&gt;&lt;/p&gt;\\r&lt;p&gt;Four year co...</td>\n",
       "      <td>Charlotte</td>\n",
       "      <td>NC</td>\n",
       "      <td>US</td>\n",
       "    </tr>\n",
       "    <tr>\n",
       "      <th>2</th>\n",
       "      <td>7</td>\n",
       "      <td>1</td>\n",
       "      <td>P/T HUMAN RESOURCES ASSISTANT</td>\n",
       "      <td>p t human resources assistant p t human resour...</td>\n",
       "      <td>Please refer to the Job Description to view th...</td>\n",
       "      <td>Winter Park</td>\n",
       "      <td>FL</td>\n",
       "      <td>US</td>\n",
       "    </tr>\n",
       "    <tr>\n",
       "      <th>3</th>\n",
       "      <td>8</td>\n",
       "      <td>1</td>\n",
       "      <td>Route Delivery Drivers</td>\n",
       "      <td>route delivery driverscity beverages come to w...</td>\n",
       "      <td>Please refer to the Job Description to view th...</td>\n",
       "      <td>Orlando</td>\n",
       "      <td>FL</td>\n",
       "      <td>US</td>\n",
       "    </tr>\n",
       "    <tr>\n",
       "      <th>4</th>\n",
       "      <td>9</td>\n",
       "      <td>1</td>\n",
       "      <td>Housekeeping</td>\n",
       "      <td>housekeepingi make sure every part of their da...</td>\n",
       "      <td>Please refer to the Job Description to view th...</td>\n",
       "      <td>Orlando</td>\n",
       "      <td>FL</td>\n",
       "      <td>US</td>\n",
       "    </tr>\n",
       "  </tbody>\n",
       "</table>\n",
       "</div>"
      ],
      "text/plain": [
       "   JobID  WindowID                             Title  \\\n",
       "0      1         1  Security Engineer/Technical Lead   \n",
       "1      4         1         SAP Business Analyst / WM   \n",
       "2      7         1     P/T HUMAN RESOURCES ASSISTANT   \n",
       "3      8         1            Route Delivery Drivers   \n",
       "4      9         1                      Housekeeping   \n",
       "\n",
       "                                         Description  \\\n",
       "0  security engineer technical leadsecurity clear...   \n",
       "1  sap business analyst wmno corp to corp resumes...   \n",
       "2  p t human resources assistant p t human resour...   \n",
       "3  route delivery driverscity beverages come to w...   \n",
       "4  housekeepingi make sure every part of their da...   \n",
       "\n",
       "                                        Requirements         City State  \\\n",
       "0  <p>SKILL SET</p>\\r<p>&nbsp;</p>\\r<p>Network Se...   Washington    DC   \n",
       "1  <p><b>WHAT YOU NEED: </b></p>\\r<p>Four year co...    Charlotte    NC   \n",
       "2  Please refer to the Job Description to view th...  Winter Park    FL   \n",
       "3  Please refer to the Job Description to view th...      Orlando    FL   \n",
       "4  Please refer to the Job Description to view th...      Orlando    FL   \n",
       "\n",
       "  Country  \n",
       "0      US  \n",
       "1      US  \n",
       "2      US  \n",
       "3      US  \n",
       "4      US  "
      ]
     },
     "execution_count": 39,
     "metadata": {},
     "output_type": "execute_result"
    }
   ],
   "source": [
    "jobs_US_base_line.head()"
   ]
  },
  {
   "cell_type": "markdown",
   "metadata": {},
   "source": [
    "#### Dataframes\n",
    "- users_training\n",
    "- users_testing\n",
    "- apps_training\n",
    "- apps_testing\n",
    "- user_history_training\n",
    "- user_history_testing\n",
    "\n",
    "##### Location\n",
    "- jobs_US\n",
    "- statewise_jobs\n",
    "- citywise_jobs\n",
    "- citywise_jobs_top"
   ]
  },
  {
   "cell_type": "markdown",
   "metadata": {},
   "source": [
    "# Content based filtering <a class=\"anchor\" id=\"content\"></a>"
   ]
  },
  {
   "cell_type": "markdown",
   "metadata": {},
   "source": [
    "## job description based recommender <a class=\"anchor\" id=\"jobdesc\"></a>\n",
    "using term frequency-inverse document frequency"
   ]
  },
  {
   "cell_type": "code",
   "execution_count": 110,
   "metadata": {},
   "outputs": [],
   "source": [
    "tf = TfidfVectorizer(analyzer='word',ngram_range=(1, 2),min_df=0, stop_words='english')\n",
    "tfidf_matrix = tf.fit_transform(jobs_US_base_line['Description'])"
   ]
  },
  {
   "cell_type": "code",
   "execution_count": 111,
   "metadata": {
    "scrolled": false
   },
   "outputs": [
    {
     "data": {
      "text/plain": [
       "(10000, 535561)"
      ]
     },
     "execution_count": 111,
     "metadata": {},
     "output_type": "execute_result"
    }
   ],
   "source": [
    "tfidf_matrix.shape"
   ]
  },
  {
   "cell_type": "code",
   "execution_count": 112,
   "metadata": {
    "scrolled": true
   },
   "outputs": [
    {
     "name": "stdout",
     "output_type": "stream",
     "text": [
      "  (0, 396320)\t0.07337462270591398\n",
      "  (0, 116302)\t0.07913828672728199\n",
      "  (0, 241598)\t0.07913828672728199\n",
      "  (0, 214698)\t0.07913828672728199\n",
      "  (0, 423958)\t0.07913828672728199\n",
      "  (0, 410349)\t0.07913828672728199\n",
      "  (0, 498710)\t0.07913828672728199\n",
      "  (0, 173007)\t0.07913828672728199\n",
      "  (0, 484311)\t0.07337462270591398\n",
      "  (0, 225632)\t0.07913828672728199\n",
      "  (0, 296712)\t0.07913828672728199\n",
      "  (0, 421009)\t0.07913828672728199\n",
      "  (0, 228520)\t0.075766759408026\n",
      "  (0, 268473)\t0.07913828672728199\n",
      "  (0, 346709)\t0.07913828672728199\n",
      "  (0, 526092)\t0.0629576361678082\n",
      "  (0, 145589)\t0.07913828672728199\n",
      "  (0, 523976)\t0.07913828672728199\n",
      "  (0, 452488)\t0.07913828672728199\n",
      "  (0, 501349)\t0.05582775785330333\n",
      "  (0, 110593)\t0.07913828672728199\n",
      "  (0, 233558)\t0.07913828672728199\n",
      "  (0, 241655)\t0.075766759408026\n",
      "  (0, 421905)\t0.07913828672728199\n",
      "  (0, 146402)\t0.07913828672728199\n",
      "  :\t:\n",
      "  (9999, 496360)\t0.02213606523995365\n",
      "  (9999, 372220)\t0.037579791566535306\n",
      "  (9999, 277660)\t0.02736487089315866\n",
      "  (9999, 316830)\t0.02192978200488458\n",
      "  (9999, 92881)\t0.023603346147456003\n",
      "  (9999, 228543)\t0.034637179694721895\n",
      "  (9999, 458224)\t0.049059126690054605\n",
      "  (9999, 314242)\t0.056463144048767684\n",
      "  (9999, 128746)\t0.02563416301169032\n",
      "  (9999, 393332)\t0.02316141622397743\n",
      "  (9999, 46561)\t0.030148127345369456\n",
      "  (9999, 442248)\t0.024573204041448478\n",
      "  (9999, 145263)\t0.033745605393214785\n",
      "  (9999, 233390)\t0.022973656318998645\n",
      "  (9999, 145595)\t0.024603867678727617\n",
      "  (9999, 73550)\t0.06775036980778312\n",
      "  (9999, 486455)\t0.020188498662051798\n",
      "  (9999, 391536)\t0.024352625767737418\n",
      "  (9999, 478947)\t0.02311225420176474\n",
      "  (9999, 65890)\t0.030580486912957637\n",
      "  (9999, 445825)\t0.06631607314251313\n",
      "  (9999, 128025)\t0.11264983678607518\n",
      "  (9999, 337345)\t0.024943063417556255\n",
      "  (9999, 253884)\t0.025566220616241864\n",
      "  (9999, 488697)\t0.028225239306289503\n"
     ]
    }
   ],
   "source": [
    "print(tfidf_matrix)"
   ]
  },
  {
   "cell_type": "code",
   "execution_count": 113,
   "metadata": {},
   "outputs": [],
   "source": [
    "cosine_sim = linear_kernel(tfidf_matrix, tfidf_matrix)"
   ]
  },
  {
   "cell_type": "code",
   "execution_count": 114,
   "metadata": {},
   "outputs": [
    {
     "data": {
      "text/plain": [
       "array([1.        , 0.03241652, 0.00838853, ..., 0.01491531, 0.01491531,\n",
       "       0.01491531])"
      ]
     },
     "execution_count": 114,
     "metadata": {},
     "output_type": "execute_result"
    }
   ],
   "source": [
    "cosine_sim[0]"
   ]
  },
  {
   "cell_type": "code",
   "execution_count": 115,
   "metadata": {},
   "outputs": [],
   "source": [
    "jobs_US_base_line = jobs_US_base_line.reset_index()\n",
    "titles = jobs_US_base_line['Title']\n",
    "indices = pd.Series(jobs_US_base_line.index, index=jobs_US_base_line['Title'])"
   ]
  },
  {
   "cell_type": "code",
   "execution_count": 116,
   "metadata": {},
   "outputs": [
    {
     "data": {
      "text/html": [
       "<div>\n",
       "<style scoped>\n",
       "    .dataframe tbody tr th:only-of-type {\n",
       "        vertical-align: middle;\n",
       "    }\n",
       "\n",
       "    .dataframe tbody tr th {\n",
       "        vertical-align: top;\n",
       "    }\n",
       "\n",
       "    .dataframe thead th {\n",
       "        text-align: right;\n",
       "    }\n",
       "</style>\n",
       "<table border=\"1\" class=\"dataframe\">\n",
       "  <thead>\n",
       "    <tr style=\"text-align: right;\">\n",
       "      <th></th>\n",
       "      <th>level_0</th>\n",
       "      <th>index</th>\n",
       "      <th>JobID</th>\n",
       "      <th>WindowID</th>\n",
       "      <th>Title</th>\n",
       "      <th>Description</th>\n",
       "      <th>Requirements</th>\n",
       "      <th>City</th>\n",
       "      <th>State</th>\n",
       "      <th>Country</th>\n",
       "    </tr>\n",
       "  </thead>\n",
       "  <tbody>\n",
       "    <tr>\n",
       "      <th>0</th>\n",
       "      <td>0</td>\n",
       "      <td>0</td>\n",
       "      <td>1</td>\n",
       "      <td>1</td>\n",
       "      <td>Security Engineer/Technical Lead</td>\n",
       "      <td>security engineer technical leadsecurity clear...</td>\n",
       "      <td>&lt;p&gt;SKILL SET&lt;/p&gt;\\r&lt;p&gt;&amp;nbsp;&lt;/p&gt;\\r&lt;p&gt;Network Se...</td>\n",
       "      <td>Washington</td>\n",
       "      <td>DC</td>\n",
       "      <td>US</td>\n",
       "    </tr>\n",
       "    <tr>\n",
       "      <th>1</th>\n",
       "      <td>1</td>\n",
       "      <td>1</td>\n",
       "      <td>4</td>\n",
       "      <td>1</td>\n",
       "      <td>SAP Business Analyst / WM</td>\n",
       "      <td>sap business analyst wmno corp to corp resumes...</td>\n",
       "      <td>&lt;p&gt;&lt;b&gt;WHAT YOU NEED: &lt;/b&gt;&lt;/p&gt;\\r&lt;p&gt;Four year co...</td>\n",
       "      <td>Charlotte</td>\n",
       "      <td>NC</td>\n",
       "      <td>US</td>\n",
       "    </tr>\n",
       "    <tr>\n",
       "      <th>2</th>\n",
       "      <td>2</td>\n",
       "      <td>2</td>\n",
       "      <td>7</td>\n",
       "      <td>1</td>\n",
       "      <td>P/T HUMAN RESOURCES ASSISTANT</td>\n",
       "      <td>p t human resources assistant p t human resour...</td>\n",
       "      <td>Please refer to the Job Description to view th...</td>\n",
       "      <td>Winter Park</td>\n",
       "      <td>FL</td>\n",
       "      <td>US</td>\n",
       "    </tr>\n",
       "    <tr>\n",
       "      <th>3</th>\n",
       "      <td>3</td>\n",
       "      <td>3</td>\n",
       "      <td>8</td>\n",
       "      <td>1</td>\n",
       "      <td>Route Delivery Drivers</td>\n",
       "      <td>route delivery driverscity beverages come to w...</td>\n",
       "      <td>Please refer to the Job Description to view th...</td>\n",
       "      <td>Orlando</td>\n",
       "      <td>FL</td>\n",
       "      <td>US</td>\n",
       "    </tr>\n",
       "    <tr>\n",
       "      <th>4</th>\n",
       "      <td>4</td>\n",
       "      <td>4</td>\n",
       "      <td>9</td>\n",
       "      <td>1</td>\n",
       "      <td>Housekeeping</td>\n",
       "      <td>housekeepingi make sure every part of their da...</td>\n",
       "      <td>Please refer to the Job Description to view th...</td>\n",
       "      <td>Orlando</td>\n",
       "      <td>FL</td>\n",
       "      <td>US</td>\n",
       "    </tr>\n",
       "  </tbody>\n",
       "</table>\n",
       "</div>"
      ],
      "text/plain": [
       "   level_0  index  JobID  WindowID                             Title  \\\n",
       "0        0      0      1         1  Security Engineer/Technical Lead   \n",
       "1        1      1      4         1         SAP Business Analyst / WM   \n",
       "2        2      2      7         1     P/T HUMAN RESOURCES ASSISTANT   \n",
       "3        3      3      8         1            Route Delivery Drivers   \n",
       "4        4      4      9         1                      Housekeeping   \n",
       "\n",
       "                                         Description  \\\n",
       "0  security engineer technical leadsecurity clear...   \n",
       "1  sap business analyst wmno corp to corp resumes...   \n",
       "2  p t human resources assistant p t human resour...   \n",
       "3  route delivery driverscity beverages come to w...   \n",
       "4  housekeepingi make sure every part of their da...   \n",
       "\n",
       "                                        Requirements         City State  \\\n",
       "0  <p>SKILL SET</p>\\r<p>&nbsp;</p>\\r<p>Network Se...   Washington    DC   \n",
       "1  <p><b>WHAT YOU NEED: </b></p>\\r<p>Four year co...    Charlotte    NC   \n",
       "2  Please refer to the Job Description to view th...  Winter Park    FL   \n",
       "3  Please refer to the Job Description to view th...      Orlando    FL   \n",
       "4  Please refer to the Job Description to view th...      Orlando    FL   \n",
       "\n",
       "  Country  \n",
       "0      US  \n",
       "1      US  \n",
       "2      US  \n",
       "3      US  \n",
       "4      US  "
      ]
     },
     "execution_count": 116,
     "metadata": {},
     "output_type": "execute_result"
    }
   ],
   "source": [
    "jobs_US_base_line.head()"
   ]
  },
  {
   "cell_type": "code",
   "execution_count": 117,
   "metadata": {
    "scrolled": true
   },
   "outputs": [
    {
     "name": "stdout",
     "output_type": "stream",
     "text": [
      "Title\n",
      "Security Engineer/Technical Lead                                 0\n",
      "SAP Business Analyst / WM                                        1\n",
      "P/T HUMAN RESOURCES ASSISTANT                                    2\n",
      "Route Delivery Drivers                                           3\n",
      "Housekeeping                                                     4\n",
      "                                                              ... \n",
      "Sales Representative / Account Manager /  Customer Service    9995\n",
      "Sales Representative / Account Manager /  Customer Service    9996\n",
      "Sales Representative / Account Manager /  Customer Service    9997\n",
      "Sales Representative / Account Manager /  Customer Service    9998\n",
      "Sales Representative / Account Manager /  Customer Service    9999\n",
      "Length: 10000, dtype: int64\n"
     ]
    }
   ],
   "source": [
    "print(indices)"
   ]
  },
  {
   "cell_type": "code",
   "execution_count": 118,
   "metadata": {},
   "outputs": [],
   "source": [
    "def get_recommendations(title):\n",
    "    idx = indices[title]\n",
    "    #print (idx)\n",
    "    sim_scores = list(enumerate(cosine_sim[idx]))\n",
    "    #print (sim_scores)\n",
    "    sim_scores = sorted(sim_scores, key=lambda x: x[1], reverse=True)\n",
    "    job_indices = [i[0] for i in sim_scores]\n",
    "    return titles.iloc[job_indices]"
   ]
  },
  {
   "cell_type": "code",
   "execution_count": 119,
   "metadata": {
    "scrolled": true
   },
   "outputs": [
    {
     "data": {
      "text/plain": [
       "1                           SAP Business Analyst / WM\n",
       "6051                    SAP FI/CO Business Consultant\n",
       "5159                          SAP Basis Administrator\n",
       "5868                       SAP FI/CO Business Analyst\n",
       "5351    SAP Sales and Distribution Solution Architect\n",
       "4796       Senior Specialist - SAP Configuration - SD\n",
       "5117                       SAP Integration Specialist\n",
       "4290           SAP FICO Functional -2years experience\n",
       "4728           SAP ABAP Developer with PRA experience\n",
       "5244                                 Business Analyst\n",
       "Name: Title, dtype: object"
      ]
     },
     "execution_count": 119,
     "metadata": {},
     "output_type": "execute_result"
    }
   ],
   "source": [
    "get_recommendations('SAP Business Analyst / WM').head(10)"
   ]
  },
  {
   "cell_type": "code",
   "execution_count": 50,
   "metadata": {},
   "outputs": [
    {
     "data": {
      "text/plain": [
       "0                        Security Engineer/Technical Lead\n",
       "5906                             Senior Security Engineer\n",
       "6380                Security Technology - SIEM Consultant\n",
       "3248                Senior Lead Systems Security Engineer\n",
       "1302                       Information Security Architect\n",
       "5525                   Sr. Information Security Architect\n",
       "6873              Integrated System Service Engineer - CA\n",
       "3230                    Computer Systems Security Manager\n",
       "1568                 Senior Information Security Engineer\n",
       "4901    Cloud Services Security Application Administrator\n",
       "Name: Title, dtype: object"
      ]
     },
     "execution_count": 50,
     "metadata": {},
     "output_type": "execute_result"
    }
   ],
   "source": [
    "get_recommendations('Security Engineer/Technical Lead').head(10)"
   ]
  },
  {
   "cell_type": "markdown",
   "metadata": {},
   "source": [
    "## similar user based recommender <a class=\"anchor\" id=\"similarusers\"></a>\n",
    "\n",
    "- degree type, majors and total years of experience\n",
    "- `users_training` dataset"
   ]
  },
  {
   "cell_type": "code",
   "execution_count": 51,
   "metadata": {
    "scrolled": false
   },
   "outputs": [
    {
     "data": {
      "text/html": [
       "<div>\n",
       "<style scoped>\n",
       "    .dataframe tbody tr th:only-of-type {\n",
       "        vertical-align: middle;\n",
       "    }\n",
       "\n",
       "    .dataframe tbody tr th {\n",
       "        vertical-align: top;\n",
       "    }\n",
       "\n",
       "    .dataframe thead th {\n",
       "        text-align: right;\n",
       "    }\n",
       "</style>\n",
       "<table border=\"1\" class=\"dataframe\">\n",
       "  <thead>\n",
       "    <tr style=\"text-align: right;\">\n",
       "      <th></th>\n",
       "      <th>UserID</th>\n",
       "      <th>WindowID</th>\n",
       "      <th>Split</th>\n",
       "      <th>City</th>\n",
       "      <th>State</th>\n",
       "      <th>Country</th>\n",
       "      <th>ZipCode</th>\n",
       "      <th>DegreeType</th>\n",
       "      <th>Major</th>\n",
       "      <th>GraduationDate</th>\n",
       "      <th>WorkHistoryCount</th>\n",
       "      <th>TotalYearsExperience</th>\n",
       "      <th>CurrentlyEmployed</th>\n",
       "      <th>ManagedOthers</th>\n",
       "      <th>ManagedHowMany</th>\n",
       "    </tr>\n",
       "  </thead>\n",
       "  <tbody>\n",
       "    <tr>\n",
       "      <th>0</th>\n",
       "      <td>47</td>\n",
       "      <td>1</td>\n",
       "      <td>Train</td>\n",
       "      <td>Paramount</td>\n",
       "      <td>CA</td>\n",
       "      <td>US</td>\n",
       "      <td>90723</td>\n",
       "      <td>High School</td>\n",
       "      <td>NaN</td>\n",
       "      <td>1999-06-01 00:00:00</td>\n",
       "      <td>3</td>\n",
       "      <td>10.0</td>\n",
       "      <td>Yes</td>\n",
       "      <td>No</td>\n",
       "      <td>0</td>\n",
       "    </tr>\n",
       "    <tr>\n",
       "      <th>1</th>\n",
       "      <td>72</td>\n",
       "      <td>1</td>\n",
       "      <td>Train</td>\n",
       "      <td>La Mesa</td>\n",
       "      <td>CA</td>\n",
       "      <td>US</td>\n",
       "      <td>91941</td>\n",
       "      <td>Master's</td>\n",
       "      <td>Anthropology</td>\n",
       "      <td>2011-01-01 00:00:00</td>\n",
       "      <td>10</td>\n",
       "      <td>8.0</td>\n",
       "      <td>Yes</td>\n",
       "      <td>No</td>\n",
       "      <td>0</td>\n",
       "    </tr>\n",
       "    <tr>\n",
       "      <th>2</th>\n",
       "      <td>80</td>\n",
       "      <td>1</td>\n",
       "      <td>Train</td>\n",
       "      <td>Williamstown</td>\n",
       "      <td>NJ</td>\n",
       "      <td>US</td>\n",
       "      <td>08094</td>\n",
       "      <td>High School</td>\n",
       "      <td>Not Applicable</td>\n",
       "      <td>1985-06-01 00:00:00</td>\n",
       "      <td>5</td>\n",
       "      <td>11.0</td>\n",
       "      <td>Yes</td>\n",
       "      <td>Yes</td>\n",
       "      <td>5</td>\n",
       "    </tr>\n",
       "    <tr>\n",
       "      <th>3</th>\n",
       "      <td>98</td>\n",
       "      <td>1</td>\n",
       "      <td>Train</td>\n",
       "      <td>Astoria</td>\n",
       "      <td>NY</td>\n",
       "      <td>US</td>\n",
       "      <td>11105</td>\n",
       "      <td>Master's</td>\n",
       "      <td>Journalism</td>\n",
       "      <td>2007-05-01 00:00:00</td>\n",
       "      <td>3</td>\n",
       "      <td>3.0</td>\n",
       "      <td>Yes</td>\n",
       "      <td>No</td>\n",
       "      <td>0</td>\n",
       "    </tr>\n",
       "    <tr>\n",
       "      <th>4</th>\n",
       "      <td>123</td>\n",
       "      <td>1</td>\n",
       "      <td>Train</td>\n",
       "      <td>Baton Rouge</td>\n",
       "      <td>LA</td>\n",
       "      <td>US</td>\n",
       "      <td>70808</td>\n",
       "      <td>Bachelor's</td>\n",
       "      <td>Agricultural Business</td>\n",
       "      <td>2011-05-01 00:00:00</td>\n",
       "      <td>1</td>\n",
       "      <td>9.0</td>\n",
       "      <td>Yes</td>\n",
       "      <td>No</td>\n",
       "      <td>0</td>\n",
       "    </tr>\n",
       "  </tbody>\n",
       "</table>\n",
       "</div>"
      ],
      "text/plain": [
       "   UserID  WindowID  Split          City State Country ZipCode   DegreeType  \\\n",
       "0      47         1  Train     Paramount    CA      US   90723  High School   \n",
       "1      72         1  Train       La Mesa    CA      US   91941     Master's   \n",
       "2      80         1  Train  Williamstown    NJ      US   08094  High School   \n",
       "3      98         1  Train       Astoria    NY      US   11105     Master's   \n",
       "4     123         1  Train   Baton Rouge    LA      US   70808   Bachelor's   \n",
       "\n",
       "                   Major       GraduationDate  WorkHistoryCount  \\\n",
       "0                    NaN  1999-06-01 00:00:00                 3   \n",
       "1           Anthropology  2011-01-01 00:00:00                10   \n",
       "2         Not Applicable  1985-06-01 00:00:00                 5   \n",
       "3             Journalism  2007-05-01 00:00:00                 3   \n",
       "4  Agricultural Business  2011-05-01 00:00:00                 1   \n",
       "\n",
       "   TotalYearsExperience CurrentlyEmployed ManagedOthers  ManagedHowMany  \n",
       "0                  10.0               Yes            No               0  \n",
       "1                   8.0               Yes            No               0  \n",
       "2                  11.0               Yes           Yes               5  \n",
       "3                   3.0               Yes            No               0  \n",
       "4                   9.0               Yes            No               0  "
      ]
     },
     "execution_count": 51,
     "metadata": {},
     "output_type": "execute_result"
    }
   ],
   "source": [
    "users_training.head()"
   ]
  },
  {
   "cell_type": "code",
   "execution_count": 52,
   "metadata": {},
   "outputs": [],
   "source": [
    "user_based_approach_US = users_training.loc[users_training['Country']=='US']"
   ]
  },
  {
   "cell_type": "code",
   "execution_count": 53,
   "metadata": {},
   "outputs": [],
   "source": [
    "user_based_approach = user_based_approach_US.iloc[0:10000,:].copy()"
   ]
  },
  {
   "cell_type": "code",
   "execution_count": 54,
   "metadata": {},
   "outputs": [
    {
     "data": {
      "text/html": [
       "<div>\n",
       "<style scoped>\n",
       "    .dataframe tbody tr th:only-of-type {\n",
       "        vertical-align: middle;\n",
       "    }\n",
       "\n",
       "    .dataframe tbody tr th {\n",
       "        vertical-align: top;\n",
       "    }\n",
       "\n",
       "    .dataframe thead th {\n",
       "        text-align: right;\n",
       "    }\n",
       "</style>\n",
       "<table border=\"1\" class=\"dataframe\">\n",
       "  <thead>\n",
       "    <tr style=\"text-align: right;\">\n",
       "      <th></th>\n",
       "      <th>UserID</th>\n",
       "      <th>WindowID</th>\n",
       "      <th>Split</th>\n",
       "      <th>City</th>\n",
       "      <th>State</th>\n",
       "      <th>Country</th>\n",
       "      <th>ZipCode</th>\n",
       "      <th>DegreeType</th>\n",
       "      <th>Major</th>\n",
       "      <th>GraduationDate</th>\n",
       "      <th>WorkHistoryCount</th>\n",
       "      <th>TotalYearsExperience</th>\n",
       "      <th>CurrentlyEmployed</th>\n",
       "      <th>ManagedOthers</th>\n",
       "      <th>ManagedHowMany</th>\n",
       "    </tr>\n",
       "  </thead>\n",
       "  <tbody>\n",
       "    <tr>\n",
       "      <th>0</th>\n",
       "      <td>47</td>\n",
       "      <td>1</td>\n",
       "      <td>Train</td>\n",
       "      <td>Paramount</td>\n",
       "      <td>CA</td>\n",
       "      <td>US</td>\n",
       "      <td>90723</td>\n",
       "      <td>High School</td>\n",
       "      <td>NaN</td>\n",
       "      <td>1999-06-01 00:00:00</td>\n",
       "      <td>3</td>\n",
       "      <td>10.0</td>\n",
       "      <td>Yes</td>\n",
       "      <td>No</td>\n",
       "      <td>0</td>\n",
       "    </tr>\n",
       "    <tr>\n",
       "      <th>1</th>\n",
       "      <td>72</td>\n",
       "      <td>1</td>\n",
       "      <td>Train</td>\n",
       "      <td>La Mesa</td>\n",
       "      <td>CA</td>\n",
       "      <td>US</td>\n",
       "      <td>91941</td>\n",
       "      <td>Master's</td>\n",
       "      <td>Anthropology</td>\n",
       "      <td>2011-01-01 00:00:00</td>\n",
       "      <td>10</td>\n",
       "      <td>8.0</td>\n",
       "      <td>Yes</td>\n",
       "      <td>No</td>\n",
       "      <td>0</td>\n",
       "    </tr>\n",
       "    <tr>\n",
       "      <th>2</th>\n",
       "      <td>80</td>\n",
       "      <td>1</td>\n",
       "      <td>Train</td>\n",
       "      <td>Williamstown</td>\n",
       "      <td>NJ</td>\n",
       "      <td>US</td>\n",
       "      <td>08094</td>\n",
       "      <td>High School</td>\n",
       "      <td>Not Applicable</td>\n",
       "      <td>1985-06-01 00:00:00</td>\n",
       "      <td>5</td>\n",
       "      <td>11.0</td>\n",
       "      <td>Yes</td>\n",
       "      <td>Yes</td>\n",
       "      <td>5</td>\n",
       "    </tr>\n",
       "    <tr>\n",
       "      <th>3</th>\n",
       "      <td>98</td>\n",
       "      <td>1</td>\n",
       "      <td>Train</td>\n",
       "      <td>Astoria</td>\n",
       "      <td>NY</td>\n",
       "      <td>US</td>\n",
       "      <td>11105</td>\n",
       "      <td>Master's</td>\n",
       "      <td>Journalism</td>\n",
       "      <td>2007-05-01 00:00:00</td>\n",
       "      <td>3</td>\n",
       "      <td>3.0</td>\n",
       "      <td>Yes</td>\n",
       "      <td>No</td>\n",
       "      <td>0</td>\n",
       "    </tr>\n",
       "    <tr>\n",
       "      <th>4</th>\n",
       "      <td>123</td>\n",
       "      <td>1</td>\n",
       "      <td>Train</td>\n",
       "      <td>Baton Rouge</td>\n",
       "      <td>LA</td>\n",
       "      <td>US</td>\n",
       "      <td>70808</td>\n",
       "      <td>Bachelor's</td>\n",
       "      <td>Agricultural Business</td>\n",
       "      <td>2011-05-01 00:00:00</td>\n",
       "      <td>1</td>\n",
       "      <td>9.0</td>\n",
       "      <td>Yes</td>\n",
       "      <td>No</td>\n",
       "      <td>0</td>\n",
       "    </tr>\n",
       "  </tbody>\n",
       "</table>\n",
       "</div>"
      ],
      "text/plain": [
       "   UserID  WindowID  Split          City State Country ZipCode   DegreeType  \\\n",
       "0      47         1  Train     Paramount    CA      US   90723  High School   \n",
       "1      72         1  Train       La Mesa    CA      US   91941     Master's   \n",
       "2      80         1  Train  Williamstown    NJ      US   08094  High School   \n",
       "3      98         1  Train       Astoria    NY      US   11105     Master's   \n",
       "4     123         1  Train   Baton Rouge    LA      US   70808   Bachelor's   \n",
       "\n",
       "                   Major       GraduationDate  WorkHistoryCount  \\\n",
       "0                    NaN  1999-06-01 00:00:00                 3   \n",
       "1           Anthropology  2011-01-01 00:00:00                10   \n",
       "2         Not Applicable  1985-06-01 00:00:00                 5   \n",
       "3             Journalism  2007-05-01 00:00:00                 3   \n",
       "4  Agricultural Business  2011-05-01 00:00:00                 1   \n",
       "\n",
       "   TotalYearsExperience CurrentlyEmployed ManagedOthers  ManagedHowMany  \n",
       "0                  10.0               Yes            No               0  \n",
       "1                   8.0               Yes            No               0  \n",
       "2                  11.0               Yes           Yes               5  \n",
       "3                   3.0               Yes            No               0  \n",
       "4                   9.0               Yes            No               0  "
      ]
     },
     "execution_count": 54,
     "metadata": {},
     "output_type": "execute_result"
    }
   ],
   "source": [
    "user_based_approach.head()"
   ]
  },
  {
   "cell_type": "code",
   "execution_count": 55,
   "metadata": {},
   "outputs": [],
   "source": [
    "user_based_approach['DegreeType'] = user_based_approach['DegreeType'].fillna('')\n",
    "user_based_approach['Major'] = user_based_approach['Major'].fillna('')\n",
    "user_based_approach['TotalYearsExperience'] = str(user_based_approach['TotalYearsExperience'].fillna(''))\n",
    "\n",
    "user_based_approach['DegreeType'] = user_based_approach['DegreeType'] + user_based_approach['Major'] + \\\n",
    "                                    user_based_approach['TotalYearsExperience']\n"
   ]
  },
  {
   "cell_type": "code",
   "execution_count": 56,
   "metadata": {},
   "outputs": [],
   "source": [
    "tf = TfidfVectorizer(analyzer='word',ngram_range=(1, 2),min_df=0, stop_words='english')\n",
    "tfidf_matrix = tf.fit_transform(user_based_approach['DegreeType'])"
   ]
  },
  {
   "cell_type": "code",
   "execution_count": 57,
   "metadata": {},
   "outputs": [
    {
     "data": {
      "text/plain": [
       "(10000, 7215)"
      ]
     },
     "execution_count": 57,
     "metadata": {},
     "output_type": "execute_result"
    }
   ],
   "source": [
    "tfidf_matrix.shape"
   ]
  },
  {
   "cell_type": "code",
   "execution_count": 58,
   "metadata": {},
   "outputs": [],
   "source": [
    "cosine_sim = linear_kernel(tfidf_matrix,tfidf_matrix)"
   ]
  },
  {
   "cell_type": "code",
   "execution_count": 59,
   "metadata": {},
   "outputs": [
    {
     "data": {
      "text/plain": [
       "array([1.        , 0.17876394, 0.39845967, ..., 0.08851082, 0.27428073,\n",
       "       0.19371807])"
      ]
     },
     "execution_count": 59,
     "metadata": {},
     "output_type": "execute_result"
    }
   ],
   "source": [
    "cosine_sim[0]"
   ]
  },
  {
   "cell_type": "code",
   "execution_count": 60,
   "metadata": {},
   "outputs": [
    {
     "data": {
      "text/plain": [
       "UserID\n",
       "47    0\n",
       "72    1\n",
       "dtype: int64"
      ]
     },
     "execution_count": 60,
     "metadata": {},
     "output_type": "execute_result"
    }
   ],
   "source": [
    "user_based_approach = user_based_approach.reset_index()\n",
    "userid = user_based_approach['UserID']\n",
    "indices = pd.Series(user_based_approach.index, index=user_based_approach['UserID'])\n",
    "indices.head(2)"
   ]
  },
  {
   "cell_type": "code",
   "execution_count": 61,
   "metadata": {},
   "outputs": [],
   "source": [
    "def get_recommendations_userwise(userid):\n",
    "    idx = indices[userid]\n",
    "    #print (idx)\n",
    "    sim_scores = list(enumerate(cosine_sim[idx]))\n",
    "    #print (sim_scores)\n",
    "    sim_scores = sorted(sim_scores, key=lambda x: x[1], reverse=True)\n",
    "    user_indices = [i[0] for i in sim_scores]\n",
    "    #print (user_indices)\n",
    "    return user_indices[0:11]"
   ]
  },
  {
   "cell_type": "code",
   "execution_count": 62,
   "metadata": {},
   "outputs": [
    {
     "data": {
      "text/plain": [
       "[0, 79, 126, 182, 345, 366, 393, 423, 434, 490, 544]"
      ]
     },
     "execution_count": 62,
     "metadata": {},
     "output_type": "execute_result"
    }
   ],
   "source": [
    "get_recommendations_userwise(47)"
   ]
  },
  {
   "cell_type": "code",
   "execution_count": 63,
   "metadata": {},
   "outputs": [],
   "source": [
    "def get_job_id(usrid_list):\n",
    "    jobs_userwise = apps_training['UserID'].isin(usrid_list) #\n",
    "    df1 = pd.DataFrame(data = apps_training[jobs_userwise], columns=['JobID'])\n",
    "    joblist = df1['JobID'].tolist()\n",
    "    Job_list = jobs['JobID'].isin(joblist) #[1083186, 516837, 507614, 754917, 686406, 1058896, 335132])\n",
    "    df_temp = pd.DataFrame(data = jobs[Job_list], columns=['JobID','Title','Description','City','State'])\n",
    "    return df_temp"
   ]
  },
  {
   "cell_type": "code",
   "execution_count": 64,
   "metadata": {},
   "outputs": [
    {
     "data": {
      "text/html": [
       "<div>\n",
       "<style scoped>\n",
       "    .dataframe tbody tr th:only-of-type {\n",
       "        vertical-align: middle;\n",
       "    }\n",
       "\n",
       "    .dataframe tbody tr th {\n",
       "        vertical-align: top;\n",
       "    }\n",
       "\n",
       "    .dataframe thead th {\n",
       "        text-align: right;\n",
       "    }\n",
       "</style>\n",
       "<table border=\"1\" class=\"dataframe\">\n",
       "  <thead>\n",
       "    <tr style=\"text-align: right;\">\n",
       "      <th></th>\n",
       "      <th>JobID</th>\n",
       "      <th>Title</th>\n",
       "      <th>Description</th>\n",
       "      <th>City</th>\n",
       "      <th>State</th>\n",
       "    </tr>\n",
       "  </thead>\n",
       "  <tbody>\n",
       "    <tr>\n",
       "      <th>905894</th>\n",
       "      <td>428902</td>\n",
       "      <td>Aircraft Servicer</td>\n",
       "      <td>&lt;b&gt;Job Classification: &lt;/b&gt; Direct Hire \\r\\n\\r...</td>\n",
       "      <td>Memphis</td>\n",
       "      <td>TN</td>\n",
       "    </tr>\n",
       "    <tr>\n",
       "      <th>975525</th>\n",
       "      <td>1098447</td>\n",
       "      <td>Automotive Service Advisor</td>\n",
       "      <td>&lt;div&gt;\\r&lt;div&gt;Briggs Nissan in Lawrence Kansas h...</td>\n",
       "      <td>Lawrence</td>\n",
       "      <td>KS</td>\n",
       "    </tr>\n",
       "    <tr>\n",
       "      <th>980507</th>\n",
       "      <td>37309</td>\n",
       "      <td>Medical Lab Technician - High Volume Lab</td>\n",
       "      <td>&lt;span&gt;Position Title:&lt;span&gt;&amp;nbsp;&amp;nbsp;&amp;nbsp;&amp;...</td>\n",
       "      <td>Fort Myers</td>\n",
       "      <td>FL</td>\n",
       "    </tr>\n",
       "    <tr>\n",
       "      <th>986244</th>\n",
       "      <td>83507</td>\n",
       "      <td>Nurse Tech (CNA/STNA)</td>\n",
       "      <td>&lt;p align=\"center\"&gt;&lt;b&gt;Purpose of Your Job Posit...</td>\n",
       "      <td>Englewood</td>\n",
       "      <td>FL</td>\n",
       "    </tr>\n",
       "    <tr>\n",
       "      <th>987452</th>\n",
       "      <td>93883</td>\n",
       "      <td>Nurse Tech II (CNA/STNA)</td>\n",
       "      <td>&lt;B&gt;Nurse Tech II (CNA/STNA)&lt;/B&gt; &lt;BR&gt;\\r&lt;BR&gt;\\rTh...</td>\n",
       "      <td>Fort Myers</td>\n",
       "      <td>FL</td>\n",
       "    </tr>\n",
       "    <tr>\n",
       "      <th>1000910</th>\n",
       "      <td>228284</td>\n",
       "      <td>REGISTERED NURSE – ICU</td>\n",
       "      <td>&lt;p&gt;&lt;strong&gt;&lt;span&gt;&lt;font face=\"\"&gt;Registered Nurs...</td>\n",
       "      <td>Punta Gorda</td>\n",
       "      <td>FL</td>\n",
       "    </tr>\n",
       "    <tr>\n",
       "      <th>1007140</th>\n",
       "      <td>284840</td>\n",
       "      <td>Certified Nursing Assistant / CNA</td>\n",
       "      <td>&lt;hr&gt;\\r&lt;p style=\"text-align: center\"&gt;&lt;strong&gt;Ce...</td>\n",
       "      <td>Saint Petersburg</td>\n",
       "      <td>FL</td>\n",
       "    </tr>\n",
       "    <tr>\n",
       "      <th>1007141</th>\n",
       "      <td>284841</td>\n",
       "      <td>Home Health Aide / HHA</td>\n",
       "      <td>&lt;hr&gt;\\r&lt;p style=\"text-align: center\"&gt;&lt;strong&gt;Ho...</td>\n",
       "      <td>Saint Petersburg</td>\n",
       "      <td>FL</td>\n",
       "    </tr>\n",
       "    <tr>\n",
       "      <th>1009455</th>\n",
       "      <td>312536</td>\n",
       "      <td>Secretary II</td>\n",
       "      <td>&lt;br&gt;&lt;br&gt;&lt;b&gt;Department: &lt;/b&gt;COMM Maryland Cardi...</td>\n",
       "      <td>Baltimore</td>\n",
       "      <td>MD</td>\n",
       "    </tr>\n",
       "    <tr>\n",
       "      <th>1011978</th>\n",
       "      <td>341662</td>\n",
       "      <td>Medical Assistant</td>\n",
       "      <td>Certified Medical Assistant for busy Pain Clin...</td>\n",
       "      <td>Fort Myers</td>\n",
       "      <td>FL</td>\n",
       "    </tr>\n",
       "    <tr>\n",
       "      <th>1034578</th>\n",
       "      <td>551375</td>\n",
       "      <td>Phlebotomist</td>\n",
       "      <td>&lt;p&gt;Every day All Medical Personnel helps excep...</td>\n",
       "      <td>Clearwater</td>\n",
       "      <td>FL</td>\n",
       "    </tr>\n",
       "    <tr>\n",
       "      <th>1048060</th>\n",
       "      <td>684278</td>\n",
       "      <td>Sales Representative / Customer Service / Acco...</td>\n",
       "      <td>&lt;P&gt;Central Payment offers limitless opportunit...</td>\n",
       "      <td>Bonita Springs</td>\n",
       "      <td>FL</td>\n",
       "    </tr>\n",
       "    <tr>\n",
       "      <th>1066952</th>\n",
       "      <td>867194</td>\n",
       "      <td>Hospital Liaison and Pharmaceutical</td>\n",
       "      <td>Hospital Liaison with Pharmaceutical exp&lt;br /&gt;...</td>\n",
       "      <td>Fort Myers</td>\n",
       "      <td>FL</td>\n",
       "    </tr>\n",
       "    <tr>\n",
       "      <th>1070785</th>\n",
       "      <td>910932</td>\n",
       "      <td>Nursing:  CNA (PRN)</td>\n",
       "      <td>&lt;p&gt;&amp;nbsp;&lt;/p&gt;\\r&lt;p&gt;Take advantage of this great...</td>\n",
       "      <td>Fort Myers</td>\n",
       "      <td>FL</td>\n",
       "    </tr>\n",
       "    <tr>\n",
       "      <th>1076051</th>\n",
       "      <td>960285</td>\n",
       "      <td>All college grads apply! Entry level sales and...</td>\n",
       "      <td>&lt;div&gt; &lt;span&gt;\\r&lt;div&gt;\\r&lt;div&gt;&lt;strong&gt;All college ...</td>\n",
       "      <td>Fort Myers</td>\n",
       "      <td>FL</td>\n",
       "    </tr>\n",
       "    <tr>\n",
       "      <th>1091311</th>\n",
       "      <td>1108709</td>\n",
       "      <td>Certified Nursing Assistant / CNA / HHA</td>\n",
       "      <td>&lt;hr&gt;\\r&lt;p style=\"text-align: center\"&gt;&lt;strong&gt;Ce...</td>\n",
       "      <td>Sarasota</td>\n",
       "      <td>FL</td>\n",
       "    </tr>\n",
       "  </tbody>\n",
       "</table>\n",
       "</div>"
      ],
      "text/plain": [
       "           JobID                                              Title  \\\n",
       "905894    428902                                  Aircraft Servicer   \n",
       "975525   1098447                         Automotive Service Advisor   \n",
       "980507     37309           Medical Lab Technician - High Volume Lab   \n",
       "986244     83507                              Nurse Tech (CNA/STNA)   \n",
       "987452     93883                           Nurse Tech II (CNA/STNA)   \n",
       "1000910   228284                             REGISTERED NURSE – ICU   \n",
       "1007140   284840                  Certified Nursing Assistant / CNA   \n",
       "1007141   284841                             Home Health Aide / HHA   \n",
       "1009455   312536                                       Secretary II   \n",
       "1011978   341662                                  Medical Assistant   \n",
       "1034578   551375                                       Phlebotomist   \n",
       "1048060   684278  Sales Representative / Customer Service / Acco...   \n",
       "1066952   867194                Hospital Liaison and Pharmaceutical   \n",
       "1070785   910932                                Nursing:  CNA (PRN)   \n",
       "1076051   960285  All college grads apply! Entry level sales and...   \n",
       "1091311  1108709            Certified Nursing Assistant / CNA / HHA   \n",
       "\n",
       "                                               Description              City  \\\n",
       "905894   <b>Job Classification: </b> Direct Hire \\r\\n\\r...           Memphis   \n",
       "975525   <div>\\r<div>Briggs Nissan in Lawrence Kansas h...          Lawrence   \n",
       "980507   <span>Position Title:<span>&nbsp;&nbsp;&nbsp;&...        Fort Myers   \n",
       "986244   <p align=\"center\"><b>Purpose of Your Job Posit...         Englewood   \n",
       "987452   <B>Nurse Tech II (CNA/STNA)</B> <BR>\\r<BR>\\rTh...        Fort Myers   \n",
       "1000910  <p><strong><span><font face=\"\">Registered Nurs...       Punta Gorda   \n",
       "1007140  <hr>\\r<p style=\"text-align: center\"><strong>Ce...  Saint Petersburg   \n",
       "1007141  <hr>\\r<p style=\"text-align: center\"><strong>Ho...  Saint Petersburg   \n",
       "1009455  <br><br><b>Department: </b>COMM Maryland Cardi...         Baltimore   \n",
       "1011978  Certified Medical Assistant for busy Pain Clin...        Fort Myers   \n",
       "1034578  <p>Every day All Medical Personnel helps excep...        Clearwater   \n",
       "1048060  <P>Central Payment offers limitless opportunit...    Bonita Springs   \n",
       "1066952  Hospital Liaison with Pharmaceutical exp<br />...        Fort Myers   \n",
       "1070785  <p>&nbsp;</p>\\r<p>Take advantage of this great...        Fort Myers   \n",
       "1076051  <div> <span>\\r<div>\\r<div><strong>All college ...        Fort Myers   \n",
       "1091311  <hr>\\r<p style=\"text-align: center\"><strong>Ce...          Sarasota   \n",
       "\n",
       "        State  \n",
       "905894     TN  \n",
       "975525     KS  \n",
       "980507     FL  \n",
       "986244     FL  \n",
       "987452     FL  \n",
       "1000910    FL  \n",
       "1007140    FL  \n",
       "1007141    FL  \n",
       "1009455    MD  \n",
       "1011978    FL  \n",
       "1034578    FL  \n",
       "1048060    FL  \n",
       "1066952    FL  \n",
       "1070785    FL  \n",
       "1076051    FL  \n",
       "1091311    FL  "
      ]
     },
     "execution_count": 64,
     "metadata": {},
     "output_type": "execute_result"
    }
   ],
   "source": [
    "get_job_id(get_recommendations_userwise(47))"
   ]
  },
  {
   "cell_type": "markdown",
   "metadata": {},
   "source": [
    "## Hybrid Recommendation"
   ]
  },
  {
   "cell_type": "markdown",
   "metadata": {},
   "source": [
    "### Giving the output of One recommendation System as Input to Another\n",
    "\n",
    "#### Collaborative Filtering -> Content Based Filtering"
   ]
  },
  {
   "cell_type": "code",
   "execution_count": 82,
   "metadata": {},
   "outputs": [],
   "source": [
    "## Get the User Id\n",
    "\n",
    "# id_of_user = int(input(\"Enter User ID\"))\n",
    "\n",
    "id_of_user = 47"
   ]
  },
  {
   "cell_type": "code",
   "execution_count": 127,
   "metadata": {},
   "outputs": [],
   "source": [
    "curr = get_job_id(get_recommendations_userwise(id_of_user)).head(1)"
   ]
  },
  {
   "cell_type": "code",
   "execution_count": 128,
   "metadata": {},
   "outputs": [
    {
     "data": {
      "text/plain": [
       "609    MEDICAL- FRONT OFFICE\n",
       "Name: Title, dtype: object"
      ]
     },
     "execution_count": 128,
     "metadata": {},
     "output_type": "execute_result"
    }
   ],
   "source": [
    "curr['Title']"
   ]
  },
  {
   "cell_type": "markdown",
   "metadata": {},
   "source": []
  },
  {
   "cell_type": "code",
   "execution_count": 129,
   "metadata": {},
   "outputs": [
    {
     "data": {
      "text/plain": [
       "'MEDICAL- FRONT OFFICE'"
      ]
     },
     "execution_count": 129,
     "metadata": {},
     "output_type": "execute_result"
    }
   ],
   "source": [
    "t = curr['Title'][609]\n",
    "t"
   ]
  },
  {
   "cell_type": "code",
   "execution_count": 130,
   "metadata": {},
   "outputs": [
    {
     "data": {
      "text/plain": [
       "609                             MEDICAL- FRONT OFFICE\n",
       "620                                            DENTAL\n",
       "581    Dental - Experienced Ortho Treatment Counselor\n",
       "643                                Medical Assistant.\n",
       "606                    Healthcare Executive Assistant\n",
       "596                                             SALES\n",
       "632                                       ELECTRICIAN\n",
       "593                              Sales Solar Products\n",
       "613                         AUTOMOTIVE FINANCE MANGER\n",
       "631                                     TELEMARKETING\n",
       "Name: Title, dtype: object"
      ]
     },
     "execution_count": 130,
     "metadata": {},
     "output_type": "execute_result"
    }
   ],
   "source": [
    "get_recommendations(t).head(10)"
   ]
  },
  {
   "cell_type": "code",
   "execution_count": null,
   "metadata": {},
   "outputs": [],
   "source": []
  },
  {
   "cell_type": "code",
   "execution_count": null,
   "metadata": {},
   "outputs": [],
   "source": []
  },
  {
   "cell_type": "code",
   "execution_count": null,
   "metadata": {},
   "outputs": [],
   "source": []
  },
  {
   "cell_type": "code",
   "execution_count": null,
   "metadata": {},
   "outputs": [],
   "source": []
  },
  {
   "cell_type": "code",
   "execution_count": null,
   "metadata": {},
   "outputs": [],
   "source": []
  }
 ],
 "metadata": {
  "kernelspec": {
   "display_name": "Python 3.9.0 64-bit",
   "language": "python",
   "name": "python3"
  },
  "language_info": {
   "codemirror_mode": {
    "name": "ipython",
    "version": 3
   },
   "file_extension": ".py",
   "mimetype": "text/x-python",
   "name": "python",
   "nbconvert_exporter": "python",
   "pygments_lexer": "ipython3",
   "version": "3.9.0"
  },
  "vscode": {
   "interpreter": {
    "hash": "5addf786bcd861d1ce5006f23111f8cbb206731e5b61b0a5632ba9e0252558a8"
   }
  }
 },
 "nbformat": 4,
 "nbformat_minor": 2
}
